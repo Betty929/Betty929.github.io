{
  "nbformat": 4,
  "nbformat_minor": 0,
  "metadata": {
    "colab": {
      "name": "ST449FinalProject.ipynb",
      "provenance": [],
      "collapsed_sections": [],
      "toc_visible": true,
      "authorship_tag": "ABX9TyME9GlSXdWizOoXFheWNk2j",
      "include_colab_link": true
    },
    "kernelspec": {
      "name": "python3",
      "display_name": "Python 3"
    },
    "language_info": {
      "name": "python"
    },
    "accelerator": "GPU"
  },
  "cells": [
    {
      "cell_type": "markdown",
      "metadata": {
        "id": "view-in-github",
        "colab_type": "text"
      },
      "source": [
        "<a href=\"https://colab.research.google.com/github/Betty929/Betty929.github.io/blob/main/ST449FinalProject.ipynb\" target=\"_parent\"><img src=\"https://colab.research.google.com/assets/colab-badge.svg\" alt=\"Open In Colab\"/></a>"
      ]
    },
    {
      "cell_type": "markdown",
      "metadata": {
        "id": "boSc_rGlrMGU"
      },
      "source": [
        "# **1. Introduction**\n",
        "Vaccination is an efficient method of preventing the spread of COVID-19, but its efficacy is dependent not only on vaccine availability and delivery, but also on public acceptance, which is focused on public concerns. As a result, the project's aim is to train a tweet sentiment classifier to analyse shifts in public attitudes toward COVID-19 vaccination over time.\n",
        "\n",
        "This project makes use of two datasets. Aman Miglani's Corona Virus Tagged Data dataset includes tweets about coronavirus that were manually labelled as extremely positive, positive, neutral, negative, and extremely negative. The training dataset contains 41155 tweets, while the testing dataset contains 3797 tweets. The other dataset, uploaded by Ritesh Yadav, includes all unlabeled tweets with the hashtag #Covid19 Vaccine from February 12th to October 22nd, 2020.\n",
        "\n",
        "\n"
      ]
    },
    {
      "cell_type": "code",
      "metadata": {
        "id": "PUTTn_LGiRI9"
      },
      "source": [
        "from google.colab import drive\n",
        "drive.mount('/content/drive')"
      ],
      "execution_count": null,
      "outputs": []
    },
    {
      "cell_type": "code",
      "metadata": {
        "colab": {
          "base_uri": "https://localhost:8080/"
        },
        "id": "RTBog3jmimSY",
        "outputId": "1da3336a-10a3-4137-9227-52fdfb88c6a4"
      },
      "source": [
        "cd /content/drive/MyDrive/Colab\\ Notebooks"
      ],
      "execution_count": null,
      "outputs": [
        {
          "output_type": "stream",
          "text": [
            "/content/drive/MyDrive/Colab Notebooks\n"
          ],
          "name": "stdout"
        }
      ]
    },
    {
      "cell_type": "code",
      "metadata": {
        "id": "VIT3Dt28ipT9"
      },
      "source": [
        "# import the packages\n",
        "import numpy as np\n",
        "import pandas as pd\n",
        "import matplotlib.pyplot as plt\n",
        "import seaborn as sns\n",
        "import re\n",
        "import nltk\n",
        "from nltk.corpus import stopwords\n",
        "import random\n",
        "random.seed(100)\n",
        "from datetime import datetime\n",
        "import plotly.express as px\n",
        "from sklearn.metrics import classification_report,confusion_matrix,accuracy_score\n",
        "\n",
        "import tensorflow as tf\n",
        "from tensorflow.keras.preprocessing.text import Tokenizer\n",
        "from tensorflow.keras.preprocessing.sequence import pad_sequences\n",
        "from keras.utils import to_categorical\n",
        "from keras.models import Sequential\n",
        "from keras.layers import Embedding\n",
        "from keras.layers import Conv1D\n",
        "from keras.layers import MaxPooling1D\n",
        "from keras.layers import Dense\n",
        "from keras.layers import Flatten\n",
        "from keras.layers import Dropout\n",
        "from keras.layers import LSTM\n",
        "from keras.optimizers import SGD\n",
        "from keras.optimizers import Adam\n",
        "from keras.regularizers import l2\n",
        "\n",
        "\n",
        "from keras.models import model_from_json"
      ],
      "execution_count": null,
      "outputs": []
    },
    {
      "cell_type": "markdown",
      "metadata": {
        "id": "ROiOp0alrbAA"
      },
      "source": [
        "# **2.1   Data Cleaning & EDA**"
      ]
    },
    {
      "cell_type": "code",
      "metadata": {
        "id": "Z9GYPN1MjpND"
      },
      "source": [
        "# import the dataset for model training from Google drive\n",
        "url_train = 'https://drive.google.com/file/d/1qi96CKiJVyi4eCLPQGS0oCi-rZTi0Hl1/view?usp=sharing'\n",
        "url_test = 'https://drive.google.com/file/d/1LRQgxlQD_NM48zbdfTM-6uwR89Bxy1Sj/view?usp=sharing'\n",
        "\n",
        "def get_df(url):\n",
        "  path = 'https://drive.google.com/uc?export=download&id='+url.split('/')[-2]\n",
        "  df = pd.read_csv(path, encoding='latin_1')\n",
        "  return df\n",
        "\n",
        "train_df = get_df(url_train)\n",
        "test_df = get_df(url_test)\n",
        "\n",
        "# load the tweets dataset\n",
        "tweets = pd.read_csv('file.csv')\n"
      ],
      "execution_count": null,
      "outputs": []
    },
    {
      "cell_type": "code",
      "metadata": {
        "colab": {
          "base_uri": "https://localhost:8080/",
          "height": 202
        },
        "id": "u-6z7jsumxnX",
        "outputId": "30a414ba-9b37-47ad-89a3-e182971fa260"
      },
      "source": [
        "train_df.head()"
      ],
      "execution_count": null,
      "outputs": [
        {
          "output_type": "execute_result",
          "data": {
            "text/html": [
              "<div>\n",
              "<style scoped>\n",
              "    .dataframe tbody tr th:only-of-type {\n",
              "        vertical-align: middle;\n",
              "    }\n",
              "\n",
              "    .dataframe tbody tr th {\n",
              "        vertical-align: top;\n",
              "    }\n",
              "\n",
              "    .dataframe thead th {\n",
              "        text-align: right;\n",
              "    }\n",
              "</style>\n",
              "<table border=\"1\" class=\"dataframe\">\n",
              "  <thead>\n",
              "    <tr style=\"text-align: right;\">\n",
              "      <th></th>\n",
              "      <th>UserName</th>\n",
              "      <th>ScreenName</th>\n",
              "      <th>Location</th>\n",
              "      <th>TweetAt</th>\n",
              "      <th>OriginalTweet</th>\n",
              "      <th>Sentiment</th>\n",
              "    </tr>\n",
              "  </thead>\n",
              "  <tbody>\n",
              "    <tr>\n",
              "      <th>0</th>\n",
              "      <td>3799</td>\n",
              "      <td>48751</td>\n",
              "      <td>London</td>\n",
              "      <td>16-03-2020</td>\n",
              "      <td>@MeNyrbie @Phil_Gahan @Chrisitv https://t.co/i...</td>\n",
              "      <td>Neutral</td>\n",
              "    </tr>\n",
              "    <tr>\n",
              "      <th>1</th>\n",
              "      <td>3800</td>\n",
              "      <td>48752</td>\n",
              "      <td>UK</td>\n",
              "      <td>16-03-2020</td>\n",
              "      <td>advice Talk to your neighbours family to excha...</td>\n",
              "      <td>Positive</td>\n",
              "    </tr>\n",
              "    <tr>\n",
              "      <th>2</th>\n",
              "      <td>3801</td>\n",
              "      <td>48753</td>\n",
              "      <td>Vagabonds</td>\n",
              "      <td>16-03-2020</td>\n",
              "      <td>Coronavirus Australia: Woolworths to give elde...</td>\n",
              "      <td>Positive</td>\n",
              "    </tr>\n",
              "    <tr>\n",
              "      <th>3</th>\n",
              "      <td>3802</td>\n",
              "      <td>48754</td>\n",
              "      <td>NaN</td>\n",
              "      <td>16-03-2020</td>\n",
              "      <td>My food stock is not the only one which is emp...</td>\n",
              "      <td>Positive</td>\n",
              "    </tr>\n",
              "    <tr>\n",
              "      <th>4</th>\n",
              "      <td>3803</td>\n",
              "      <td>48755</td>\n",
              "      <td>NaN</td>\n",
              "      <td>16-03-2020</td>\n",
              "      <td>Me, ready to go at supermarket during the #COV...</td>\n",
              "      <td>Extremely Negative</td>\n",
              "    </tr>\n",
              "  </tbody>\n",
              "</table>\n",
              "</div>"
            ],
            "text/plain": [
              "   UserName  ...           Sentiment\n",
              "0      3799  ...             Neutral\n",
              "1      3800  ...            Positive\n",
              "2      3801  ...            Positive\n",
              "3      3802  ...            Positive\n",
              "4      3803  ...  Extremely Negative\n",
              "\n",
              "[5 rows x 6 columns]"
            ]
          },
          "metadata": {
            "tags": []
          },
          "execution_count": 5
        }
      ]
    },
    {
      "cell_type": "code",
      "metadata": {
        "colab": {
          "base_uri": "https://localhost:8080/",
          "height": 569
        },
        "id": "4k9LxalHr9m5",
        "outputId": "077687ed-490f-45c1-cf0b-486d697859b7"
      },
      "source": [
        "tweets.head()"
      ],
      "execution_count": null,
      "outputs": [
        {
          "output_type": "execute_result",
          "data": {
            "text/html": [
              "<div>\n",
              "<style scoped>\n",
              "    .dataframe tbody tr th:only-of-type {\n",
              "        vertical-align: middle;\n",
              "    }\n",
              "\n",
              "    .dataframe tbody tr th {\n",
              "        vertical-align: top;\n",
              "    }\n",
              "\n",
              "    .dataframe thead th {\n",
              "        text-align: right;\n",
              "    }\n",
              "</style>\n",
              "<table border=\"1\" class=\"dataframe\">\n",
              "  <thead>\n",
              "    <tr style=\"text-align: right;\">\n",
              "      <th></th>\n",
              "      <th>id</th>\n",
              "      <th>conversation_id</th>\n",
              "      <th>created_at</th>\n",
              "      <th>date</th>\n",
              "      <th>time</th>\n",
              "      <th>timezone</th>\n",
              "      <th>user_id</th>\n",
              "      <th>username</th>\n",
              "      <th>name</th>\n",
              "      <th>place</th>\n",
              "      <th>tweet</th>\n",
              "      <th>language</th>\n",
              "      <th>mentions</th>\n",
              "      <th>urls</th>\n",
              "      <th>photos</th>\n",
              "      <th>replies_count</th>\n",
              "      <th>retweets_count</th>\n",
              "      <th>likes_count</th>\n",
              "      <th>hashtags</th>\n",
              "      <th>cashtags</th>\n",
              "      <th>link</th>\n",
              "      <th>retweet</th>\n",
              "      <th>quote_url</th>\n",
              "      <th>video</th>\n",
              "      <th>thumbnail</th>\n",
              "      <th>near</th>\n",
              "      <th>geo</th>\n",
              "      <th>source</th>\n",
              "      <th>user_rt_id</th>\n",
              "      <th>user_rt</th>\n",
              "      <th>retweet_id</th>\n",
              "      <th>reply_to</th>\n",
              "      <th>retweet_date</th>\n",
              "      <th>translate</th>\n",
              "      <th>trans_src</th>\n",
              "      <th>trans_dest</th>\n",
              "    </tr>\n",
              "  </thead>\n",
              "  <tbody>\n",
              "    <tr>\n",
              "      <th>0</th>\n",
              "      <td>1319174447442448384</td>\n",
              "      <td>1319153697406906369</td>\n",
              "      <td>2020-10-22 12:41:12 India Standard Time</td>\n",
              "      <td>2020-10-22</td>\n",
              "      <td>12:41:12</td>\n",
              "      <td>530</td>\n",
              "      <td>270371054</td>\n",
              "      <td>to_fly_to_live</td>\n",
              "      <td>Flynn Rider</td>\n",
              "      <td>NaN</td>\n",
              "      <td>@ANI Isn't it the best poll promise ever?? Fre...</td>\n",
              "      <td>en</td>\n",
              "      <td>['ani']</td>\n",
              "      <td>[]</td>\n",
              "      <td>[]</td>\n",
              "      <td>0</td>\n",
              "      <td>0</td>\n",
              "      <td>0</td>\n",
              "      <td>[]</td>\n",
              "      <td>[]</td>\n",
              "      <td>https://twitter.com/to_fly_to_live/status/1319...</td>\n",
              "      <td>NaN</td>\n",
              "      <td>NaN</td>\n",
              "      <td>0</td>\n",
              "      <td>NaN</td>\n",
              "      <td>NaN</td>\n",
              "      <td>NaN</td>\n",
              "      <td>NaN</td>\n",
              "      <td>NaN</td>\n",
              "      <td>NaN</td>\n",
              "      <td>NaN</td>\n",
              "      <td>{'user_id': '355989081', 'username': 'ANI'}</td>\n",
              "      <td>NaN</td>\n",
              "      <td>NaN</td>\n",
              "      <td>NaN</td>\n",
              "      <td>NaN</td>\n",
              "    </tr>\n",
              "    <tr>\n",
              "      <th>1</th>\n",
              "      <td>1319174381503852544</td>\n",
              "      <td>1319174381503852544</td>\n",
              "      <td>2020-10-22 12:40:56 India Standard Time</td>\n",
              "      <td>2020-10-22</td>\n",
              "      <td>12:40:56</td>\n",
              "      <td>530</td>\n",
              "      <td>864189073858084864</td>\n",
              "      <td>utkarshsinha07</td>\n",
              "      <td>Utkarsh Sinha</td>\n",
              "      <td>NaN</td>\n",
              "      <td>Now states shall have wait for thier Vidhan Sa...</td>\n",
              "      <td>en</td>\n",
              "      <td>[]</td>\n",
              "      <td>[]</td>\n",
              "      <td>[]</td>\n",
              "      <td>0</td>\n",
              "      <td>0</td>\n",
              "      <td>0</td>\n",
              "      <td>['biharpolls']</td>\n",
              "      <td>[]</td>\n",
              "      <td>https://twitter.com/utkarshsinha07/status/1319...</td>\n",
              "      <td>NaN</td>\n",
              "      <td>https://twitter.com/ani/status/131915369740690...</td>\n",
              "      <td>0</td>\n",
              "      <td>NaN</td>\n",
              "      <td>NaN</td>\n",
              "      <td>NaN</td>\n",
              "      <td>NaN</td>\n",
              "      <td>NaN</td>\n",
              "      <td>NaN</td>\n",
              "      <td>NaN</td>\n",
              "      <td>{'user_id': None, 'username': None}</td>\n",
              "      <td>NaN</td>\n",
              "      <td>NaN</td>\n",
              "      <td>NaN</td>\n",
              "      <td>NaN</td>\n",
              "    </tr>\n",
              "    <tr>\n",
              "      <th>2</th>\n",
              "      <td>1319174114779643905</td>\n",
              "      <td>1319174114779643905</td>\n",
              "      <td>2020-10-22 12:39:52 India Standard Time</td>\n",
              "      <td>2020-10-22</td>\n",
              "      <td>12:39:52</td>\n",
              "      <td>530</td>\n",
              "      <td>116114711</td>\n",
              "      <td>batolebazi</td>\n",
              "      <td>BATOLEBAZI</td>\n",
              "      <td>NaN</td>\n",
              "      <td>जिस मदारी ने ट्रेन तक नहीं चलाई और तुम पत्नी व...</td>\n",
              "      <td>hi</td>\n",
              "      <td>[]</td>\n",
              "      <td>[]</td>\n",
              "      <td>['https://pbs.twimg.com/media/Ek6l2igUwAEbmnD....</td>\n",
              "      <td>0</td>\n",
              "      <td>0</td>\n",
              "      <td>1</td>\n",
              "      <td>['biharpolls', 'covidvaccine']</td>\n",
              "      <td>[]</td>\n",
              "      <td>https://twitter.com/BATOLEBAZI/status/13191741...</td>\n",
              "      <td>NaN</td>\n",
              "      <td>NaN</td>\n",
              "      <td>1</td>\n",
              "      <td>https://pbs.twimg.com/media/Ek6l2igUwAEbmnD.jpg</td>\n",
              "      <td>NaN</td>\n",
              "      <td>NaN</td>\n",
              "      <td>NaN</td>\n",
              "      <td>NaN</td>\n",
              "      <td>NaN</td>\n",
              "      <td>NaN</td>\n",
              "      <td>{'user_id': None, 'username': None}</td>\n",
              "      <td>NaN</td>\n",
              "      <td>NaN</td>\n",
              "      <td>NaN</td>\n",
              "      <td>NaN</td>\n",
              "    </tr>\n",
              "    <tr>\n",
              "      <th>3</th>\n",
              "      <td>1319174091232833536</td>\n",
              "      <td>1319172728851591174</td>\n",
              "      <td>2020-10-22 12:39:47 India Standard Time</td>\n",
              "      <td>2020-10-22</td>\n",
              "      <td>12:39:47</td>\n",
              "      <td>530</td>\n",
              "      <td>1249338116</td>\n",
              "      <td>bak_sahil</td>\n",
              "      <td>sahil</td>\n",
              "      <td>NaN</td>\n",
              "      <td>@MisseeMonis They said vaccine for all but not...</td>\n",
              "      <td>en</td>\n",
              "      <td>['misseemonis']</td>\n",
              "      <td>[]</td>\n",
              "      <td>[]</td>\n",
              "      <td>0</td>\n",
              "      <td>0</td>\n",
              "      <td>0</td>\n",
              "      <td>[]</td>\n",
              "      <td>[]</td>\n",
              "      <td>https://twitter.com/bak_sahil/status/131917409...</td>\n",
              "      <td>NaN</td>\n",
              "      <td>NaN</td>\n",
              "      <td>0</td>\n",
              "      <td>NaN</td>\n",
              "      <td>NaN</td>\n",
              "      <td>NaN</td>\n",
              "      <td>NaN</td>\n",
              "      <td>NaN</td>\n",
              "      <td>NaN</td>\n",
              "      <td>NaN</td>\n",
              "      <td>{'user_id': '1105377223', 'username': 'MisseeM...</td>\n",
              "      <td>NaN</td>\n",
              "      <td>NaN</td>\n",
              "      <td>NaN</td>\n",
              "      <td>NaN</td>\n",
              "    </tr>\n",
              "    <tr>\n",
              "      <th>4</th>\n",
              "      <td>1319174029488476160</td>\n",
              "      <td>1319174029488476160</td>\n",
              "      <td>2020-10-22 12:39:32 India Standard Time</td>\n",
              "      <td>2020-10-22</td>\n",
              "      <td>12:39:32</td>\n",
              "      <td>530</td>\n",
              "      <td>804225890062319617</td>\n",
              "      <td>ivibhatweedy</td>\n",
              "      <td>𝐯𝐢𝐛𝐬 | 🐺</td>\n",
              "      <td>NaN</td>\n",
              "      <td>BJP really presenting \"free COVID vaccine\" as ...</td>\n",
              "      <td>en</td>\n",
              "      <td>[]</td>\n",
              "      <td>[]</td>\n",
              "      <td>[]</td>\n",
              "      <td>0</td>\n",
              "      <td>0</td>\n",
              "      <td>4</td>\n",
              "      <td>[]</td>\n",
              "      <td>[]</td>\n",
              "      <td>https://twitter.com/ivibhatweedy/status/131917...</td>\n",
              "      <td>NaN</td>\n",
              "      <td>NaN</td>\n",
              "      <td>0</td>\n",
              "      <td>NaN</td>\n",
              "      <td>NaN</td>\n",
              "      <td>NaN</td>\n",
              "      <td>NaN</td>\n",
              "      <td>NaN</td>\n",
              "      <td>NaN</td>\n",
              "      <td>NaN</td>\n",
              "      <td>{'user_id': None, 'username': None}</td>\n",
              "      <td>NaN</td>\n",
              "      <td>NaN</td>\n",
              "      <td>NaN</td>\n",
              "      <td>NaN</td>\n",
              "    </tr>\n",
              "  </tbody>\n",
              "</table>\n",
              "</div>"
            ],
            "text/plain": [
              "                    id      conversation_id  ... trans_src trans_dest\n",
              "0  1319174447442448384  1319153697406906369  ...       NaN        NaN\n",
              "1  1319174381503852544  1319174381503852544  ...       NaN        NaN\n",
              "2  1319174114779643905  1319174114779643905  ...       NaN        NaN\n",
              "3  1319174091232833536  1319172728851591174  ...       NaN        NaN\n",
              "4  1319174029488476160  1319174029488476160  ...       NaN        NaN\n",
              "\n",
              "[5 rows x 36 columns]"
            ]
          },
          "metadata": {
            "tags": []
          },
          "execution_count": 6
        }
      ]
    },
    {
      "cell_type": "code",
      "metadata": {
        "colab": {
          "base_uri": "https://localhost:8080/",
          "height": 327
        },
        "id": "aXjXdxYHsSot",
        "outputId": "f90168dd-e0de-4c8e-fb47-5707cc1811e8"
      },
      "source": [
        "# check NaN values for training dataset\n",
        "sns.heatmap(train_df.isnull());"
      ],
      "execution_count": null,
      "outputs": [
        {
          "output_type": "display_data",
          "data": {
            "image/png": "[encoded data removed]",
            "text/plain": [
              "<Figure size 432x288 with 2 Axes>"
            ]
          },
          "metadata": {
            "tags": [],
            "needs_background": "light"
          }
        }
      ]
    },
    {
      "cell_type": "code",
      "metadata": {
        "colab": {
          "base_uri": "https://localhost:8080/",
          "height": 327
        },
        "id": "3V6qtC15uFSJ",
        "outputId": "b263173f-0660-4b05-c749-1fb5ce1cf038"
      },
      "source": [
        "# check NaN values for testing dataset\n",
        "sns.heatmap(test_df.isnull());"
      ],
      "execution_count": null,
      "outputs": [
        {
          "output_type": "display_data",
          "data": {
            "image/png": "[encoded data removed]",
            "text/plain": [
              "<Figure size 432x288 with 2 Axes>"
            ]
          },
          "metadata": {
            "tags": [],
            "needs_background": "light"
          }
        }
      ]
    },
    {
      "cell_type": "markdown",
      "metadata": {
        "id": "Y0J02YCluLco"
      },
      "source": [
        "There are several missing values of Location in both training and testing datasets, but it won't impact the analysis as this field won't be considered in sentiment analysis."
      ]
    },
    {
      "cell_type": "code",
      "metadata": {
        "colab": {
          "base_uri": "https://localhost:8080/",
          "height": 893
        },
        "id": "tTPWvdITvgJB",
        "outputId": "19a675a5-fb82-41e2-d1b5-80bafb360bf5"
      },
      "source": [
        "fig, (ax1, ax2) = plt.subplots(2, figsize = (10, 15))\n",
        "\n",
        "train = sns.countplot(x=\"Sentiment\", data=train_df, ax=ax1)\n",
        "ax1.title.set_text('Training dataset')\n",
        "\n",
        "test = sns.countplot(x=\"Sentiment\", data=test_df, ax=ax2)\n",
        "ax2.title.set_text('Testing dataset')"
      ],
      "execution_count": null,
      "outputs": [
        {
          "output_type": "display_data",
          "data": {
            "image/png": "[encoded data removed]",
            "text/plain": [
              "<Figure size 720x1080 with 2 Axes>"
            ]
          },
          "metadata": {
            "tags": [],
            "needs_background": "light"
          }
        }
      ]
    },
    {
      "cell_type": "code",
      "metadata": {
        "colab": {
          "base_uri": "https://localhost:8080/"
        },
        "id": "pi2e08nM3867",
        "outputId": "ca345670-2093-4df8-b89d-57610a2dfc46"
      },
      "source": [
        "train_df['Sentiment'].unique()"
      ],
      "execution_count": null,
      "outputs": [
        {
          "output_type": "execute_result",
          "data": {
            "text/plain": [
              "array(['Neutral', 'Positive', 'Extremely Negative', 'Negative',\n",
              "       'Extremely Positive'], dtype=object)"
            ]
          },
          "metadata": {
            "tags": []
          },
          "execution_count": 10
        }
      ]
    },
    {
      "cell_type": "code",
      "metadata": {
        "id": "41j-xwyv0HGA"
      },
      "source": [
        "def change_senti(sentiment):\n",
        "  if sentiment == 'Extremely Negative':\n",
        "    return -1\n",
        "  elif sentiment == 'Negative':\n",
        "    return -1\n",
        "  elif sentiment == 'Neutral':\n",
        "    return 0\n",
        "  else:\n",
        "    return 1\n",
        "\n",
        "train_df['Sentiment'] = train_df['Sentiment'].apply(lambda x: change_senti(x))\n",
        "test_df['Sentiment'] = test_df['Sentiment'].apply(lambda x: change_senti(x))"
      ],
      "execution_count": null,
      "outputs": []
    },
    {
      "cell_type": "code",
      "metadata": {
        "colab": {
          "base_uri": "https://localhost:8080/",
          "height": 202
        },
        "id": "tgbWsc5y3pUE",
        "outputId": "d0acdf79-7bc3-45eb-e0d0-b4d6d9d9deae"
      },
      "source": [
        "train_df.head()"
      ],
      "execution_count": null,
      "outputs": [
        {
          "output_type": "execute_result",
          "data": {
            "text/html": [
              "<div>\n",
              "<style scoped>\n",
              "    .dataframe tbody tr th:only-of-type {\n",
              "        vertical-align: middle;\n",
              "    }\n",
              "\n",
              "    .dataframe tbody tr th {\n",
              "        vertical-align: top;\n",
              "    }\n",
              "\n",
              "    .dataframe thead th {\n",
              "        text-align: right;\n",
              "    }\n",
              "</style>\n",
              "<table border=\"1\" class=\"dataframe\">\n",
              "  <thead>\n",
              "    <tr style=\"text-align: right;\">\n",
              "      <th></th>\n",
              "      <th>UserName</th>\n",
              "      <th>ScreenName</th>\n",
              "      <th>Location</th>\n",
              "      <th>TweetAt</th>\n",
              "      <th>OriginalTweet</th>\n",
              "      <th>Sentiment</th>\n",
              "    </tr>\n",
              "  </thead>\n",
              "  <tbody>\n",
              "    <tr>\n",
              "      <th>0</th>\n",
              "      <td>3799</td>\n",
              "      <td>48751</td>\n",
              "      <td>London</td>\n",
              "      <td>16-03-2020</td>\n",
              "      <td>@MeNyrbie @Phil_Gahan @Chrisitv https://t.co/i...</td>\n",
              "      <td>0</td>\n",
              "    </tr>\n",
              "    <tr>\n",
              "      <th>1</th>\n",
              "      <td>3800</td>\n",
              "      <td>48752</td>\n",
              "      <td>UK</td>\n",
              "      <td>16-03-2020</td>\n",
              "      <td>advice Talk to your neighbours family to excha...</td>\n",
              "      <td>1</td>\n",
              "    </tr>\n",
              "    <tr>\n",
              "      <th>2</th>\n",
              "      <td>3801</td>\n",
              "      <td>48753</td>\n",
              "      <td>Vagabonds</td>\n",
              "      <td>16-03-2020</td>\n",
              "      <td>Coronavirus Australia: Woolworths to give elde...</td>\n",
              "      <td>1</td>\n",
              "    </tr>\n",
              "    <tr>\n",
              "      <th>3</th>\n",
              "      <td>3802</td>\n",
              "      <td>48754</td>\n",
              "      <td>NaN</td>\n",
              "      <td>16-03-2020</td>\n",
              "      <td>My food stock is not the only one which is emp...</td>\n",
              "      <td>1</td>\n",
              "    </tr>\n",
              "    <tr>\n",
              "      <th>4</th>\n",
              "      <td>3803</td>\n",
              "      <td>48755</td>\n",
              "      <td>NaN</td>\n",
              "      <td>16-03-2020</td>\n",
              "      <td>Me, ready to go at supermarket during the #COV...</td>\n",
              "      <td>-1</td>\n",
              "    </tr>\n",
              "  </tbody>\n",
              "</table>\n",
              "</div>"
            ],
            "text/plain": [
              "   UserName  ...  Sentiment\n",
              "0      3799  ...          0\n",
              "1      3800  ...          1\n",
              "2      3801  ...          1\n",
              "3      3802  ...          1\n",
              "4      3803  ...         -1\n",
              "\n",
              "[5 rows x 6 columns]"
            ]
          },
          "metadata": {
            "tags": []
          },
          "execution_count": 12
        }
      ]
    },
    {
      "cell_type": "code",
      "metadata": {
        "colab": {
          "base_uri": "https://localhost:8080/",
          "height": 295
        },
        "id": "CDdSvbfPt3Am",
        "outputId": "24518c69-9118-448c-cdb0-da8e7dda5047"
      },
      "source": [
        "sns.countplot(x=\"Sentiment\", data=train_df)\n",
        "plt.title('Training dataset')\n",
        "plt.show()"
      ],
      "execution_count": null,
      "outputs": [
        {
          "output_type": "display_data",
          "data": {
            "image/png": "[encoded data removed]",
            "text/plain": [
              "<Figure size 432x288 with 1 Axes>"
            ]
          },
          "metadata": {
            "tags": [],
            "needs_background": "light"
          }
        }
      ]
    },
    {
      "cell_type": "code",
      "metadata": {
        "colab": {
          "base_uri": "https://localhost:8080/",
          "height": 295
        },
        "id": "zQN8UzCguxn5",
        "outputId": "fbfcd9b9-8088-4f1e-db40-ec5969743a8c"
      },
      "source": [
        "sns.countplot(x=\"Sentiment\", data=test_df)\n",
        "plt.title('Testing dataset')\n",
        "plt.show()"
      ],
      "execution_count": null,
      "outputs": [
        {
          "output_type": "display_data",
          "data": {
            "image/png": "[encoded data removed]",
            "text/plain": [
              "<Figure size 432x288 with 1 Axes>"
            ]
          },
          "metadata": {
            "tags": [],
            "needs_background": "light"
          }
        }
      ]
    },
    {
      "cell_type": "markdown",
      "metadata": {
        "id": "NMJraQi3u-72"
      },
      "source": [
        "The bar charts above clearly show that the majority of COVID-19-related tweets in the datasets are emotional, with neutral tweets accounting for the smallest proportion.\n",
        "\n",
        "The sentiment of tweets was re-labeled with positive, neutral, and negative. Both datasets are slightly imbalanced, which could impact the neural network model training."
      ]
    },
    {
      "cell_type": "markdown",
      "metadata": {
        "id": "hW9Daw2Vshql"
      },
      "source": [
        "# **2.2   Text Preparation**\n",
        "After removing URLs, hashtags, and non-alphabets, the tweets were tokenized and vectorized to turn each text into either a sequence of integers. Then the sequences were padded with 0 to ensure the same shape for further model training."
      ]
    },
    {
      "cell_type": "code",
      "metadata": {
        "id": "6fevhaevyruH",
        "colab": {
          "base_uri": "https://localhost:8080/"
        },
        "outputId": "f3a56397-0e02-4ef3-e5c8-d0a44da1e5b5"
      },
      "source": [
        "# load stop words\n",
        "nltk.download('stopwords')\n",
        "stop_word = stopwords.words('english')\n",
        "\n",
        "# clean the text\n",
        "def clean_text(text):\n",
        "    text = re.sub(r\"http\\S+\", \"\", text) #remove urls\n",
        "    text=re.sub(r'\\S+\\.com\\S+','',text) \n",
        "    text=re.sub(r'\\@\\w+','',text) #remove mentions\n",
        "    text =re.sub(r'\\#\\w+','',text) #remove hashtags\n",
        "    text = re.sub('[^A-Za-z]', ' ', text.lower()) #remove non-alphabets, and convert to lower case\n",
        "    text = text.split() #tokenize\n",
        "    text = \" \".join([word for word in text if not word in stop_word])\n",
        "    return text\n",
        "\n",
        "train_df['OriginalTweet'] = train_df['OriginalTweet'].apply(lambda x: clean_text(x))\n",
        "test_df['OriginalTweet'] = test_df['OriginalTweet'].apply(lambda x: clean_text(x))\n",
        "\n",
        "# tweets dataset\n",
        "df = tweets[tweets['language'] == 'en'][['date', 'tweet']] # select only date column and English tweets\n",
        "df['tweet'] = df['tweet'].apply(lambda x: clean_text(x)) # clean the text"
      ],
      "execution_count": null,
      "outputs": [
        {
          "output_type": "stream",
          "text": [
            "[nltk_data] Downloading package stopwords to /root/nltk_data...\n",
            "[nltk_data]   Package stopwords is already up-to-date!\n"
          ],
          "name": "stdout"
        }
      ]
    },
    {
      "cell_type": "code",
      "metadata": {
        "colab": {
          "base_uri": "https://localhost:8080/",
          "height": 202
        },
        "id": "zvowNF8Y1JkH",
        "outputId": "bdff569f-13ef-45c4-9ff8-41ca3f5fbc95"
      },
      "source": [
        "train_df.head()"
      ],
      "execution_count": null,
      "outputs": [
        {
          "output_type": "execute_result",
          "data": {
            "text/html": [
              "<div>\n",
              "<style scoped>\n",
              "    .dataframe tbody tr th:only-of-type {\n",
              "        vertical-align: middle;\n",
              "    }\n",
              "\n",
              "    .dataframe tbody tr th {\n",
              "        vertical-align: top;\n",
              "    }\n",
              "\n",
              "    .dataframe thead th {\n",
              "        text-align: right;\n",
              "    }\n",
              "</style>\n",
              "<table border=\"1\" class=\"dataframe\">\n",
              "  <thead>\n",
              "    <tr style=\"text-align: right;\">\n",
              "      <th></th>\n",
              "      <th>UserName</th>\n",
              "      <th>ScreenName</th>\n",
              "      <th>Location</th>\n",
              "      <th>TweetAt</th>\n",
              "      <th>OriginalTweet</th>\n",
              "      <th>Sentiment</th>\n",
              "    </tr>\n",
              "  </thead>\n",
              "  <tbody>\n",
              "    <tr>\n",
              "      <th>0</th>\n",
              "      <td>3799</td>\n",
              "      <td>48751</td>\n",
              "      <td>London</td>\n",
              "      <td>16-03-2020</td>\n",
              "      <td></td>\n",
              "      <td>0</td>\n",
              "    </tr>\n",
              "    <tr>\n",
              "      <th>1</th>\n",
              "      <td>3800</td>\n",
              "      <td>48752</td>\n",
              "      <td>UK</td>\n",
              "      <td>16-03-2020</td>\n",
              "      <td>advice talk neighbours family exchange phone n...</td>\n",
              "      <td>1</td>\n",
              "    </tr>\n",
              "    <tr>\n",
              "      <th>2</th>\n",
              "      <td>3801</td>\n",
              "      <td>48753</td>\n",
              "      <td>Vagabonds</td>\n",
              "      <td>16-03-2020</td>\n",
              "      <td>coronavirus australia woolworths give elderly ...</td>\n",
              "      <td>1</td>\n",
              "    </tr>\n",
              "    <tr>\n",
              "      <th>3</th>\n",
              "      <td>3802</td>\n",
              "      <td>48754</td>\n",
              "      <td>NaN</td>\n",
              "      <td>16-03-2020</td>\n",
              "      <td>food stock one empty please panic enough food ...</td>\n",
              "      <td>1</td>\n",
              "    </tr>\n",
              "    <tr>\n",
              "      <th>4</th>\n",
              "      <td>3803</td>\n",
              "      <td>48755</td>\n",
              "      <td>NaN</td>\n",
              "      <td>16-03-2020</td>\n",
              "      <td>ready go supermarket outbreak paranoid food st...</td>\n",
              "      <td>-1</td>\n",
              "    </tr>\n",
              "  </tbody>\n",
              "</table>\n",
              "</div>"
            ],
            "text/plain": [
              "   UserName  ...  Sentiment\n",
              "0      3799  ...          0\n",
              "1      3800  ...          1\n",
              "2      3801  ...          1\n",
              "3      3802  ...          1\n",
              "4      3803  ...         -1\n",
              "\n",
              "[5 rows x 6 columns]"
            ]
          },
          "metadata": {
            "tags": []
          },
          "execution_count": 16
        }
      ]
    },
    {
      "cell_type": "code",
      "metadata": {
        "id": "ZRVYGYSG4igq"
      },
      "source": [
        "# extract relevant columns, i.e. OriginalTweet, Sentiment\n",
        "train = train_df[['OriginalTweet', 'Sentiment']]\n",
        "x_train = train['OriginalTweet'].copy()\n",
        "y_train = train['Sentiment'].copy()\n",
        "y_train = to_categorical(y_train, 3) # convert y to categorical\n",
        "\n",
        "test = test_df[['OriginalTweet', 'Sentiment']]\n",
        "x_test = test['OriginalTweet'].copy()\n",
        "y_test = test['Sentiment'].copy()\n",
        "y_test = to_categorical(y_test, 3)"
      ],
      "execution_count": null,
      "outputs": []
    },
    {
      "cell_type": "code",
      "metadata": {
        "colab": {
          "base_uri": "https://localhost:8080/"
        },
        "id": "KhWLaUCeOfQi",
        "outputId": "5b9e5e9a-ed3a-48e9-fde2-4efc35a911de"
      },
      "source": [
        "y_train[0:10]"
      ],
      "execution_count": null,
      "outputs": [
        {
          "output_type": "execute_result",
          "data": {
            "text/plain": [
              "array([[1., 0., 0.],\n",
              "       [0., 1., 0.],\n",
              "       [0., 1., 0.],\n",
              "       [0., 1., 0.],\n",
              "       [0., 0., 1.],\n",
              "       [0., 1., 0.],\n",
              "       [0., 1., 0.],\n",
              "       [1., 0., 0.],\n",
              "       [0., 1., 0.],\n",
              "       [0., 0., 1.]], dtype=float32)"
            ]
          },
          "metadata": {
            "tags": []
          },
          "execution_count": 97
        }
      ]
    },
    {
      "cell_type": "code",
      "metadata": {
        "colab": {
          "base_uri": "https://localhost:8080/"
        },
        "id": "gU4k2qw6sgl-",
        "outputId": "db6b4502-1268-4bd4-9911-bf1f0fd2388e"
      },
      "source": [
        "print('The dimension of the training dataset: ', x_train.shape)\n",
        "print('The dimension of the tweets dataset: ', df.shape)"
      ],
      "execution_count": null,
      "outputs": [
        {
          "output_type": "stream",
          "text": [
            "The dimension of the training dataset:  (41157,)\n",
            "The dimension of the tweets dataset:  (201030, 2)\n"
          ],
          "name": "stdout"
        }
      ]
    },
    {
      "cell_type": "code",
      "metadata": {
        "colab": {
          "base_uri": "https://localhost:8080/"
        },
        "id": "Qpj_QUNc3kaP",
        "outputId": "21f76c6b-b69c-4468-e3ea-9b271df8f79f"
      },
      "source": [
        "max_len = np.max(df['tweet'].apply(lambda x :len(x))) # maximum length of tweets is used for padding, because there are data in that dataframe\n",
        "print(max_len)"
      ],
      "execution_count": null,
      "outputs": [
        {
          "output_type": "stream",
          "text": [
            "279\n"
          ],
          "name": "stdout"
        }
      ]
    },
    {
      "cell_type": "code",
      "metadata": {
        "id": "BkjO5c268B5R"
      },
      "source": [
        "# tokenize the text\n",
        "tokenizer = Tokenizer()\n",
        "tokenizer.fit_on_texts(df['tweet'])\n",
        "vocab_length = len(tokenizer.word_index) + 1\n",
        "\n",
        "x_train1 = tokenizer.texts_to_sequences(x_train)\n",
        "x_test1 = tokenizer.texts_to_sequences(x_test)\n",
        "tweet = tokenizer.texts_to_sequences(df['tweet'])\n",
        "\n",
        "x_train1 = pad_sequences(x_train1, maxlen=max_len, padding='post')\n",
        "x_test1 = pad_sequences(x_test1, maxlen=max_len, padding='post')\n",
        "tweet = pad_sequences(tweet, maxlen=max_len, padding='post')"
      ],
      "execution_count": null,
      "outputs": []
    },
    {
      "cell_type": "code",
      "metadata": {
        "colab": {
          "base_uri": "https://localhost:8080/"
        },
        "id": "8mavjfjs8XCt",
        "outputId": "4ed2147e-212e-4349-a0d4-f6b4a0b4f29e"
      },
      "source": [
        "print(\"Vocabulary size: {}\".format(vocab_length))\n",
        "print(\"\\nExample:\\n\")\n",
        "print(\"Sentence:\\n{}\".format(x_train[5]))\n",
        "print(\"\\nAfter tokenizing & Padding :\\n{}\".format(x_train1[6]))\n"
      ],
      "execution_count": null,
      "outputs": [
        {
          "output_type": "stream",
          "text": [
            "Vocabulary size: 57658\n",
            "\n",
            "Example:\n",
            "\n",
            "Sentence:\n",
            "news region first confirmed covid case came sullivan county last week people flocked area stores purchase cleaning supplies hand sanitizer food toilet paper goods reports\n",
            "\n",
            "After tokenizing & Padding :\n",
            "[15860  3900  1670  1301  4588  1149  2237  7867  1252    23   263     0\n",
            "     0     0     0     0     0     0     0     0     0     0     0     0\n",
            "     0     0     0     0     0     0     0     0     0     0     0     0\n",
            "     0     0     0     0     0     0     0     0     0     0     0     0\n",
            "     0     0     0     0     0     0     0     0     0     0     0     0\n",
            "     0     0     0     0     0     0     0     0     0     0     0     0\n",
            "     0     0     0     0     0     0     0     0     0     0     0     0\n",
            "     0     0     0     0     0     0     0     0     0     0     0     0\n",
            "     0     0     0     0     0     0     0     0     0     0     0     0\n",
            "     0     0     0     0     0     0     0     0     0     0     0     0\n",
            "     0     0     0     0     0     0     0     0     0     0     0     0\n",
            "     0     0     0     0     0     0     0     0     0     0     0     0\n",
            "     0     0     0     0     0     0     0     0     0     0     0     0\n",
            "     0     0     0     0     0     0     0     0     0     0     0     0\n",
            "     0     0     0     0     0     0     0     0     0     0     0     0\n",
            "     0     0     0     0     0     0     0     0     0     0     0     0\n",
            "     0     0     0     0     0     0     0     0     0     0     0     0\n",
            "     0     0     0     0     0     0     0     0     0     0     0     0\n",
            "     0     0     0     0     0     0     0     0     0     0     0     0\n",
            "     0     0     0     0     0     0     0     0     0     0     0     0\n",
            "     0     0     0     0     0     0     0     0     0     0     0     0\n",
            "     0     0     0     0     0     0     0     0     0     0     0     0\n",
            "     0     0     0     0     0     0     0     0     0     0     0     0\n",
            "     0     0     0]\n"
          ],
          "name": "stdout"
        }
      ]
    },
    {
      "cell_type": "markdown",
      "metadata": {
        "id": "PEl8G9vjCXfc"
      },
      "source": [
        "# **3.1 CNN Model Building & Training**\n",
        "**Architecture of the CNN**\n",
        "\n",
        "The first layer of the CNN network transforms texts into real-valued factures vectors (embedding) that capture the semantic information of the words. This means that an entire tweet can be converted to a matrix of size $s \\times d$, where $s$ the number of words in the sentence and $d$ is the dimension of the embedding space. In this project, I chose $s = 279$ and $d = 128$ because of the padding strategy.\n",
        "\n",
        "\n",
        "The inputs from the embedding layer are then convolved by a convolutional layer with filters of 32 and kernel size of 8 and passed to the next layer. A single convolution involves an input $x: Z\\rightarrow R$, where $Z$ is the integer sequences and a kernel function $w: R\\rightarrow R$. The convolution operation is defined as  \n",
        "\n",
        " \\begin{equation} y(t) = f(\\sum_{s \\in Z}W(s)x(t-s)+b) \\end{equation} for $t \\in Z$ where $b \\in R$ is a bias term and $f(x)$ is a non-linear function, which is chosen to be the relu function. Besides, an L2 regularizer was applied on this layer's kernel and bias to alleviate overfitting. \n",
        "\n",
        "\n",
        "After that, each convolution was subjected to a max-pooling operation $y_\\max = \\max(y)$. For each convolution, the max-pooling operation extracts the most significant feature.\n",
        "\n",
        "\n",
        "To obtain the classification probabilities, the vector from the max-pooling layer was flattened to 1-dimensional and passed through a completely connected hidden layer of size 256 with both kernal and bias regularizer, which was then passed through a softmax layer.\n",
        "\n",
        "\n",
        "**CNN Model Training with SGD**\n",
        "\n",
        "The CNN model was trained via a stochastic gradient descent algorithm with a momentum $\\gamma = 0.8$ and decaying learning rate to minimize the cross-categorical loss function with L2 regularizers on both the convolutional layer and the fully connected hidden layer. The momentum $\\gamma = 0.8$ was used to enhance the stability of the model by accumulating more information from past gradients to smooth updates. \n",
        "\n",
        "\n",
        "\n"
      ]
    },
    {
      "cell_type": "code",
      "metadata": {
        "colab": {
          "base_uri": "https://localhost:8080/"
        },
        "id": "7VxdE-IubdiT",
        "outputId": "7cd86e7c-de8e-4394-901a-b735823eeac8"
      },
      "source": [
        "# CNN artchitecture\n",
        "embed_dim = 128 # to be furhter tuned\n",
        "\n",
        "model = Sequential()\n",
        "model.add(Embedding(vocab_length, embed_dim, input_length=max_len))\n",
        "model.add(Conv1D(filters=32, kernel_size=8, activation='relu', kernel_regularizer=l2(0.01), bias_regularizer=l2(0.01)))\n",
        "model.add(MaxPooling1D(pool_size=2))\n",
        "model.add(Flatten())\n",
        "model.add(Dense(256, activation='relu', kernel_regularizer=l2(0.01), bias_regularizer=l2(0.01))) # use L2 regularizer to overcome overfitting\n",
        "model.add(Dropout(0.3)) # to overcome overfitting\n",
        "model.add(Dense(3, activation='softmax')) # output layer three classes\n",
        "\n",
        "print(model.summary())"
      ],
      "execution_count": null,
      "outputs": [
        {
          "output_type": "stream",
          "text": [
            "Model: \"sequential\"\n",
            "_________________________________________________________________\n",
            "Layer (type)                 Output Shape              Param #   \n",
            "=================================================================\n",
            "embedding (Embedding)        (None, 279, 128)          7380224   \n",
            "_________________________________________________________________\n",
            "conv1d (Conv1D)              (None, 272, 32)           32800     \n",
            "_________________________________________________________________\n",
            "max_pooling1d (MaxPooling1D) (None, 136, 32)           0         \n",
            "_________________________________________________________________\n",
            "flatten (Flatten)            (None, 4352)              0         \n",
            "_________________________________________________________________\n",
            "dense (Dense)                (None, 256)               1114368   \n",
            "_________________________________________________________________\n",
            "dropout (Dropout)            (None, 256)               0         \n",
            "_________________________________________________________________\n",
            "dense_1 (Dense)              (None, 3)                 771       \n",
            "=================================================================\n",
            "Total params: 8,528,163\n",
            "Trainable params: 8,528,163\n",
            "Non-trainable params: 0\n",
            "_________________________________________________________________\n",
            "None\n"
          ],
          "name": "stdout"
        }
      ]
    },
    {
      "cell_type": "code",
      "metadata": {
        "colab": {
          "base_uri": "https://localhost:8080/",
          "height": 758
        },
        "id": "9LQugmJmmzni",
        "outputId": "14ac1ff3-e455-4008-991d-be6bc2a16347"
      },
      "source": [
        "tf.keras.utils.plot_model(model)"
      ],
      "execution_count": null,
      "outputs": [
        {
          "output_type": "execute_result",
          "data": {
            "image/png": "[encoded data removed]",
            "text/plain": [
              "<IPython.core.display.Image object>"
            ]
          },
          "metadata": {
            "tags": []
          },
          "execution_count": 23
        }
      ]
    },
    {
      "cell_type": "code",
      "metadata": {
        "id": "O3yvz8o_j2tH"
      },
      "source": [
        "epochs=100\n",
        "batch_size = 256\n",
        "learning_rate = 0.1\n",
        "decay_rate = learning_rate / epochs\n",
        "momentum = 0.8\n",
        "\n",
        "# optimizer\n",
        "sgd = SGD(lr=learning_rate, momentum=momentum, decay=decay_rate, nesterov=False)\n",
        "# compile the network\n",
        "model.compile(loss=tf.keras.losses.CategoricalCrossentropy(), optimizer=sgd, metrics=['accuracy'])"
      ],
      "execution_count": null,
      "outputs": []
    },
    {
      "cell_type": "code",
      "metadata": {
        "id": "-5f-wUgBlAKW"
      },
      "source": [
        "# train the network\n",
        "history1 = model.fit(x_train1, y_train, epochs=epochs, batch_size=batch_size, validation_data=(x_test1, y_test))"
      ],
      "execution_count": null,
      "outputs": []
    },
    {
      "cell_type": "markdown",
      "metadata": {
        "id": "5YlICLoFD59k"
      },
      "source": [
        "# **3.2 CNN Model Evaluation**"
      ]
    },
    {
      "cell_type": "code",
      "metadata": {
        "id": "Y4WlpA1Pz5wU"
      },
      "source": [
        "acc = history1.history['accuracy']\n",
        "val_acc = history1.history['val_accuracy']\n",
        "\n",
        "loss = history1.history['loss']\n",
        "val_loss = history1.history['val_loss']"
      ],
      "execution_count": null,
      "outputs": []
    },
    {
      "cell_type": "code",
      "metadata": {
        "colab": {
          "base_uri": "https://localhost:8080/"
        },
        "id": "zRTVPj0H-BWB",
        "outputId": "428a8aed-394b-4ae3-834e-2d80c1e14c93"
      },
      "source": [
        "print(f\"Accuracy on training data is: {acc[-1]*100} %\")\n",
        "print(f\"Loss {loss[-1]}\")\n",
        "\n",
        "print(f\"Accuracy on validation data is: {val_acc[-1]*100} %\")\n",
        "print(f\"Loss {val_loss[-1]}\")"
      ],
      "execution_count": null,
      "outputs": [
        {
          "output_type": "stream",
          "text": [
            "Accuracy on training data is: 96.07843160629272 %\n",
            "Loss 0.2814513146877289\n",
            "Accuracy on validation data is: 82.33280777931213 %\n",
            "Loss 0.6444941163063049\n"
          ],
          "name": "stdout"
        }
      ]
    },
    {
      "cell_type": "code",
      "metadata": {
        "colab": {
          "base_uri": "https://localhost:8080/",
          "height": 513
        },
        "id": "J5YJPQ6B0W3o",
        "outputId": "53001fb0-cd99-4f42-efc5-bc773cf2fcb1"
      },
      "source": [
        "# Model Accuracy & Loss\n",
        "epochs = range(len(acc))\n",
        "\n",
        "plt.plot(epochs, acc,'b',label='training acc')\n",
        "plt.plot(epochs, val_acc, 'r', label='validation acc')\n",
        "plt.legend()\n",
        "plt.show()\n",
        "\n",
        "\n",
        "plt.plot(epochs, loss,'b',label='training loss')\n",
        "plt.plot(epochs, val_loss, 'r', label='validation loss')\n",
        "plt.legend()\n",
        "plt.show()"
      ],
      "execution_count": null,
      "outputs": [
        {
          "output_type": "display_data",
          "data": {
            "image/png": "[encoded data removed]",
            "text/plain": [
              "<Figure size 432x288 with 1 Axes>"
            ]
          },
          "metadata": {
            "tags": [],
            "needs_background": "light"
          }
        },
        {
          "output_type": "display_data",
          "data": {
            "image/png": "[encoded data removed]",
            "text/plain": [
              "<Figure size 432x288 with 1 Axes>"
            ]
          },
          "metadata": {
            "tags": [],
            "needs_background": "light"
          }
        }
      ]
    },
    {
      "cell_type": "code",
      "metadata": {
        "colab": {
          "base_uri": "https://localhost:8080/"
        },
        "id": "RgY2DckBD9E1",
        "outputId": "83c3809b-76f9-4573-fee4-8c0b3b9d78c3"
      },
      "source": [
        "# confusion matrix\n",
        "pred = np.argmax(model.predict(x_test1), axis=-1)\n",
        "cm = confusion_matrix(np.argmax(y_test, 1), pred)\n",
        "cm\n"
      ],
      "execution_count": null,
      "outputs": [
        {
          "output_type": "execute_result",
          "data": {
            "text/plain": [
              "array([[ 467,   57,   95],\n",
              "       [  46, 1298,  202],\n",
              "       [  91,  180, 1362]])"
            ]
          },
          "metadata": {
            "tags": []
          },
          "execution_count": 29
        }
      ]
    },
    {
      "cell_type": "code",
      "metadata": {
        "colab": {
          "base_uri": "https://localhost:8080/",
          "height": 265
        },
        "id": "a7F4MmUbFU34",
        "outputId": "403f5b69-b04c-4cc6-e528-1ba505eeb7c0"
      },
      "source": [
        "sns.heatmap(cm,annot=True)\n",
        "plt.show()"
      ],
      "execution_count": null,
      "outputs": [
        {
          "output_type": "display_data",
          "data": {
            "image/png": "[encoded data removed]",
            "text/plain": [
              "<Figure size 432x288 with 2 Axes>"
            ]
          },
          "metadata": {
            "tags": [],
            "needs_background": "light"
          }
        }
      ]
    },
    {
      "cell_type": "markdown",
      "metadata": {
        "id": "eq1bQ3JC3doj"
      },
      "source": [
        "On the training dataset, the CNN model trained with 100 epochs achieves a 96% accuracy rate with a cross-categorical loss of 0.28 and an accuracy rate of 82.33% on testing data with a loss of 0.64. Also, there is no significant overfitting issue according to the line plots above."
      ]
    },
    {
      "cell_type": "markdown",
      "metadata": {
        "id": "tcypnE2KG7Y3"
      },
      "source": [
        "# **4.1 LSTM Model Building & Training**\n",
        "**Architecture of the LSTM**\n",
        "\n",
        "In addition to the embedding layer, the max-pooling layer, and the dense layer with kernal and bias regularizer similar to CNN, the main building block of the LSTM architecture is the bidirectional LSTM layer that takes into account the whole input sequence by stacking the outputs of a forward and a backward LSTM.  LSTMs are part of the RNN family constructed to deal with sequential data by sharing their internal weights, and they are used to solve the vanishing gradient problem associated with simple RNN by a more complex internal structure that allows LTSMs to remember information for either long or short terms.\n",
        "\n",
        "The hidden state of an LSTM unit is computed by\n",
        "\n",
        "\\\n",
        "\\begin{equation} f^{(t)} = \\sigma(U^fx^{t} + W^fh^{(t-1)}+b^f) \\end{equation}\n",
        "\\begin{equation} g^{(t)} = \\sigma(U^gx^{t} + W^gh^{(t-1)}+b^g) \\end{equation}\n",
        "\\begin{equation} q^{(t)} = \\sigma(U^ox^{t} + W^oh^{(t-1)}+b^o) \\end{equation}\n",
        "\n",
        "\\\n",
        "\\begin{equation} s^{(t)} = f^{t} {\\displaystyle \\otimes } s^{(t-1)} + g^{(t)} {\\displaystyle \\otimes }a(Ux^{(t)}+Uh^{(t-1)}+b) \\end{equation}\n",
        "\\begin{equation} h^{(t)} = a(s^{(t)}){\\displaystyle \\otimes }q^{(t)} \\end{equation}\n",
        "\\\n",
        "where $f^{(t)}$ is the forget gate, $g^{(t)}$ is the input gate, $q^{(t)}$ is the output gate, $s^{(t)}$ is the cell state, $h^{(t)}$ is the regular hidden state, $\\sigma$ is the sigmoid function, and ${\\displaystyle \\otimes }$ is the Hadamard product.\n",
        "\n",
        "Besides, a dropout layer with probability 40% is added before and after the dense layer to overcome overfitting.\n",
        "\n",
        "**CNN Model Training with SGD**\n",
        "\n",
        "The LSTM model was trained via an Adam algorithm, a stochastic gradient descent method that is based on adaptive estimation of first-order and second-order moments, with a constant learning rate of 0.01 to minimize the cross-categorical loss function with L2 regularizers on the fully connected hidden layer. \n",
        "\n"
      ]
    },
    {
      "cell_type": "code",
      "metadata": {
        "id": "9YFZt-thw0ms"
      },
      "source": [
        "lstm = tf.keras.Sequential([\n",
        "  tf.keras.layers.Embedding(vocab_length, 128, input_length=max_len),\n",
        "  tf.keras.layers.Bidirectional(LSTM(256, return_sequences=True, dropout=0.4)),\n",
        "  tf.keras.layers.GlobalAveragePooling1D(),\n",
        "  tf.keras.layers.Dropout(0.4),\n",
        "  tf.keras.layers.Dense(128, activation='relu', kernel_regularizer=l2(0.01), bias_regularizer=l2(0.01)),\n",
        "  tf.keras.layers.Dropout(0.4),\n",
        "  tf.keras.layers.Dense(3, activation='softmax')                              \n",
        "])\n",
        "\n",
        "# compile the network\n",
        "lstm.compile(loss=tf.keras.losses.CategoricalCrossentropy(), optimizer='adam', metrics=['accuracy'])"
      ],
      "execution_count": null,
      "outputs": []
    },
    {
      "cell_type": "code",
      "metadata": {
        "colab": {
          "base_uri": "https://localhost:8080/"
        },
        "id": "OCRtA4yY3_up",
        "outputId": "6d631dc7-7305-4443-bfa9-544600764298"
      },
      "source": [
        "print(lstm.summary())"
      ],
      "execution_count": null,
      "outputs": [
        {
          "output_type": "stream",
          "text": [
            "Model: \"sequential_10\"\n",
            "_________________________________________________________________\n",
            "Layer (type)                 Output Shape              Param #   \n",
            "=================================================================\n",
            "embedding_11 (Embedding)     (None, 279, 128)          7380224   \n",
            "_________________________________________________________________\n",
            "bidirectional_9 (Bidirection (None, 279, 512)          788480    \n",
            "_________________________________________________________________\n",
            "global_average_pooling1d_9 ( (None, 512)               0         \n",
            "_________________________________________________________________\n",
            "dropout_19 (Dropout)         (None, 512)               0         \n",
            "_________________________________________________________________\n",
            "dense_20 (Dense)             (None, 128)               65664     \n",
            "_________________________________________________________________\n",
            "dropout_20 (Dropout)         (None, 128)               0         \n",
            "_________________________________________________________________\n",
            "dense_21 (Dense)             (None, 3)                 387       \n",
            "=================================================================\n",
            "Total params: 8,234,755\n",
            "Trainable params: 8,234,755\n",
            "Non-trainable params: 0\n",
            "_________________________________________________________________\n",
            "None\n"
          ],
          "name": "stdout"
        }
      ]
    },
    {
      "cell_type": "code",
      "metadata": {
        "colab": {
          "base_uri": "https://localhost:8080/",
          "height": 758
        },
        "id": "fPJy0Q-N4M0V",
        "outputId": "f908ede2-e43f-4245-dcde-a52c7980a44f"
      },
      "source": [
        "tf.keras.utils.plot_model(lstm)"
      ],
      "execution_count": null,
      "outputs": [
        {
          "output_type": "execute_result",
          "data": {
            "image/png": "[encoded data removed]",
            "text/plain": [
              "<IPython.core.display.Image object>"
            ]
          },
          "metadata": {
            "tags": []
          },
          "execution_count": 76
        }
      ]
    },
    {
      "cell_type": "code",
      "metadata": {
        "id": "tn-Uldgi4T4b",
        "colab": {
          "base_uri": "https://localhost:8080/"
        },
        "outputId": "defc4207-3184-4de1-b83f-cf7e406594dd"
      },
      "source": [
        "# train the network\n",
        "history2 = lstm.fit(x_train1, y_train, epochs=10, batch_size= 128, validation_data=(x_test1, y_test))"
      ],
      "execution_count": null,
      "outputs": [
        {
          "output_type": "stream",
          "text": [
            "Epoch 1/10\n",
            "322/322 [==============================] - 57s 167ms/step - loss: 1.6135 - accuracy: 0.4321 - val_loss: 1.0491 - val_accuracy: 0.4071\n",
            "Epoch 2/10\n",
            "322/322 [==============================] - 53s 165ms/step - loss: 1.0057 - accuracy: 0.4602 - val_loss: 0.9822 - val_accuracy: 0.4165\n",
            "Epoch 3/10\n",
            "322/322 [==============================] - 53s 164ms/step - loss: 0.9195 - accuracy: 0.5299 - val_loss: 0.9518 - val_accuracy: 0.4734\n",
            "Epoch 4/10\n",
            "322/322 [==============================] - 53s 164ms/step - loss: 0.9001 - accuracy: 0.5442 - val_loss: 0.8065 - val_accuracy: 0.5427\n",
            "Epoch 5/10\n",
            "322/322 [==============================] - 53s 165ms/step - loss: 0.6423 - accuracy: 0.7289 - val_loss: 0.5178 - val_accuracy: 0.8191\n",
            "Epoch 6/10\n",
            "322/322 [==============================] - 53s 164ms/step - loss: 0.3793 - accuracy: 0.8849 - val_loss: 0.4753 - val_accuracy: 0.8449\n",
            "Epoch 7/10\n",
            "322/322 [==============================] - 53s 164ms/step - loss: 0.2942 - accuracy: 0.9170 - val_loss: 0.4381 - val_accuracy: 0.8536\n",
            "Epoch 8/10\n",
            "322/322 [==============================] - 52s 163ms/step - loss: 0.2429 - accuracy: 0.9341 - val_loss: 0.4696 - val_accuracy: 0.8494\n",
            "Epoch 9/10\n",
            "322/322 [==============================] - 53s 164ms/step - loss: 0.2224 - accuracy: 0.9430 - val_loss: 0.4872 - val_accuracy: 0.8523\n",
            "Epoch 10/10\n",
            "322/322 [==============================] - 53s 164ms/step - loss: 0.1994 - accuracy: 0.9484 - val_loss: 0.5320 - val_accuracy: 0.8433\n"
          ],
          "name": "stdout"
        }
      ]
    },
    {
      "cell_type": "markdown",
      "metadata": {
        "id": "ZcHTC3DbFosE"
      },
      "source": [
        "# **4.2 LSTM Model Evaluation**"
      ]
    },
    {
      "cell_type": "code",
      "metadata": {
        "id": "zAjTDLe6E3A-"
      },
      "source": [
        "acc_lstm = history2.history['accuracy']\n",
        "val_acc_lstm = history2.history['val_accuracy']\n",
        "\n",
        "loss_lstm = history2.history['loss']\n",
        "val_loss_lstm = history2.history['val_loss']"
      ],
      "execution_count": null,
      "outputs": []
    },
    {
      "cell_type": "code",
      "metadata": {
        "id": "44OFmrEhFsvn",
        "colab": {
          "base_uri": "https://localhost:8080/"
        },
        "outputId": "7b76f875-fc32-48cc-f842-ef0f391d518a"
      },
      "source": [
        "print(f\"Accuracy on training data is: {acc_lstm[-1]*100} %\")\n",
        "print(f\"Loss {loss_lstm[-1]}\")\n",
        "\n",
        "print(f\"Accuracy on validation data is: {val_acc_lstm[-1]*100} %\")\n",
        "print(f\"Loss {val_loss_lstm[-1]}\")"
      ],
      "execution_count": null,
      "outputs": [
        {
          "output_type": "stream",
          "text": [
            "Accuracy on training data is: 94.83198523521423 %\n",
            "Loss 0.1966242492198944\n",
            "Accuracy on validation data is: 84.33386087417603 %\n",
            "Loss 0.5319716334342957\n"
          ],
          "name": "stdout"
        }
      ]
    },
    {
      "cell_type": "code",
      "metadata": {
        "colab": {
          "base_uri": "https://localhost:8080/",
          "height": 513
        },
        "id": "VUSg1otqFClX",
        "outputId": "3170a466-057b-4a1c-e521-8350d7a6556c"
      },
      "source": [
        "# Model Accuracy & Loss\n",
        "epochs = range(len(acc_lstm))\n",
        "\n",
        "plt.plot(epochs, acc_lstm,'b',label='training acc')\n",
        "plt.plot(epochs, val_acc_lstm, 'r', label='validation acc')\n",
        "plt.legend()\n",
        "plt.show()\n",
        "\n",
        "\n",
        "plt.plot(epochs, loss_lstm,'b',label='training loss')\n",
        "plt.plot(epochs, val_loss_lstm, 'r', label='validation loss')\n",
        "plt.legend()\n",
        "plt.show() "
      ],
      "execution_count": null,
      "outputs": [
        {
          "output_type": "display_data",
          "data": {
            "image/png": "[encoded data removed]",
            "text/plain": [
              "<Figure size 432x288 with 1 Axes>"
            ]
          },
          "metadata": {
            "tags": [],
            "needs_background": "light"
          }
        },
        {
          "output_type": "display_data",
          "data": {
            "image/png": "[encoded data removed]",
            "text/plain": [
              "<Figure size 432x288 with 1 Axes>"
            ]
          },
          "metadata": {
            "tags": [],
            "needs_background": "light"
          }
        }
      ]
    },
    {
      "cell_type": "code",
      "metadata": {
        "colab": {
          "base_uri": "https://localhost:8080/"
        },
        "id": "2THt_otqs9Is",
        "outputId": "40674913-095c-4847-b57f-8d6dd422e9ef"
      },
      "source": [
        "# confusion matrix\n",
        "pred = np.argmax(lstm.predict(x_test1), axis=-1)\n",
        "cm = confusion_matrix(np.argmax(y_test, 1), pred)\n",
        "cm"
      ],
      "execution_count": null,
      "outputs": [
        {
          "output_type": "execute_result",
          "data": {
            "text/plain": [
              "array([[ 453,   45,  121],\n",
              "       [  12, 1283,  251],\n",
              "       [  45,  121, 1467]])"
            ]
          },
          "metadata": {
            "tags": []
          },
          "execution_count": 80
        }
      ]
    },
    {
      "cell_type": "code",
      "metadata": {
        "colab": {
          "base_uri": "https://localhost:8080/",
          "height": 265
        },
        "id": "kRjp9rNmtCJv",
        "outputId": "6cf8604c-ef71-402a-941e-113ba5ea9837"
      },
      "source": [
        "sns.heatmap(cm,annot=True)\n",
        "plt.show()"
      ],
      "execution_count": null,
      "outputs": [
        {
          "output_type": "display_data",
          "data": {
            "image/png": "[encoded data removed]",
            "text/plain": [
              "<Figure size 432x288 with 2 Axes>"
            ]
          },
          "metadata": {
            "tags": [],
            "needs_background": "light"
          }
        }
      ]
    },
    {
      "cell_type": "markdown",
      "metadata": {
        "id": "QrFQCZgo5Qlf"
      },
      "source": [
        "On the training dataset, the LSTM model trained with 10 epochs achieves a 94.8% accuracy rate with a cross-categorical loss of 0.20 and an accuracy rate of 84.3% on testing data with a loss of 0.53. Also, there is a minor overfitting problem as shown in the training and testing loss line plot.\n",
        "\n",
        "Even though the training accuracy of LSTM is marginally lower than that of the CNN model, the LSTM model trained was more generalised to other datasets, i.e. the testing dataset in this case, than the CNN model trained previously. So the sentiment analysis on the tweets about COVID-19 in section 5 would be done with the LSTM network trained in 4.1."
      ]
    },
    {
      "cell_type": "markdown",
      "metadata": {
        "id": "f-Fk9yN13mVG"
      },
      "source": [
        "# **5 Analysis of sentiment in tweets (LSTM)**"
      ]
    },
    {
      "cell_type": "code",
      "metadata": {
        "id": "_415g5JOdVaK"
      },
      "source": [
        "pred = np.argmax(lstm.predict(tweet), axis=-1) # predict the sentiment of tweets with lstm"
      ],
      "execution_count": null,
      "outputs": []
    },
    {
      "cell_type": "code",
      "metadata": {
        "colab": {
          "base_uri": "https://localhost:8080/",
          "height": 638
        },
        "id": "gbSwwxANNIhJ",
        "outputId": "ace7d614-9822-4077-9396-387e818de9f0"
      },
      "source": [
        "df['sentiment'] = pred # combine the sentiemtn with original dataframe\n",
        "\n",
        "df[df['sentiment'] == 0]['sentiment'] = 'Neutral'\n",
        "df[df['sentiment'] == 1]['sentiment'] = 'Positive'\n",
        "df[df['sentiment'] == 2]['sentiment'] = 'Negative'\n",
        "\n",
        "def change_sentiment(sentiment):\n",
        "  if sentiment == 0:\n",
        "    return 'Neutral'\n",
        "  elif sentiment == 1:\n",
        "    return 'Positive'\n",
        "  else:\n",
        "    return 'Negative'\n",
        "\n",
        "df['sentiment'] = df['sentiment'].apply(lambda x: change_sentiment(x))\n",
        "df.head()"
      ],
      "execution_count": null,
      "outputs": [
        {
          "output_type": "stream",
          "text": [
            "/usr/local/lib/python3.7/dist-packages/ipykernel_launcher.py:3: SettingWithCopyWarning:\n",
            "\n",
            "\n",
            "A value is trying to be set on a copy of a slice from a DataFrame.\n",
            "Try using .loc[row_indexer,col_indexer] = value instead\n",
            "\n",
            "See the caveats in the documentation: https://pandas.pydata.org/pandas-docs/stable/user_guide/indexing.html#returning-a-view-versus-a-copy\n",
            "\n",
            "/usr/local/lib/python3.7/dist-packages/ipykernel_launcher.py:4: SettingWithCopyWarning:\n",
            "\n",
            "\n",
            "A value is trying to be set on a copy of a slice from a DataFrame.\n",
            "Try using .loc[row_indexer,col_indexer] = value instead\n",
            "\n",
            "See the caveats in the documentation: https://pandas.pydata.org/pandas-docs/stable/user_guide/indexing.html#returning-a-view-versus-a-copy\n",
            "\n",
            "/usr/local/lib/python3.7/dist-packages/ipykernel_launcher.py:5: SettingWithCopyWarning:\n",
            "\n",
            "\n",
            "A value is trying to be set on a copy of a slice from a DataFrame.\n",
            "Try using .loc[row_indexer,col_indexer] = value instead\n",
            "\n",
            "See the caveats in the documentation: https://pandas.pydata.org/pandas-docs/stable/user_guide/indexing.html#returning-a-view-versus-a-copy\n",
            "\n"
          ],
          "name": "stderr"
        },
        {
          "output_type": "execute_result",
          "data": {
            "text/html": [
              "<div>\n",
              "<style scoped>\n",
              "    .dataframe tbody tr th:only-of-type {\n",
              "        vertical-align: middle;\n",
              "    }\n",
              "\n",
              "    .dataframe tbody tr th {\n",
              "        vertical-align: top;\n",
              "    }\n",
              "\n",
              "    .dataframe thead th {\n",
              "        text-align: right;\n",
              "    }\n",
              "</style>\n",
              "<table border=\"1\" class=\"dataframe\">\n",
              "  <thead>\n",
              "    <tr style=\"text-align: right;\">\n",
              "      <th></th>\n",
              "      <th>date</th>\n",
              "      <th>tweet</th>\n",
              "      <th>sentiment</th>\n",
              "    </tr>\n",
              "  </thead>\n",
              "  <tbody>\n",
              "    <tr>\n",
              "      <th>0</th>\n",
              "      <td>2020-10-22</td>\n",
              "      <td>best poll promise ever free covid vaccine vote...</td>\n",
              "      <td>Positive</td>\n",
              "    </tr>\n",
              "    <tr>\n",
              "      <th>1</th>\n",
              "      <td>2020-10-22</td>\n",
              "      <td>states shall wait thier vidhan sabha election ...</td>\n",
              "      <td>Negative</td>\n",
              "    </tr>\n",
              "    <tr>\n",
              "      <th>3</th>\n",
              "      <td>2020-10-22</td>\n",
              "      <td>said vaccine free covid vaccine new lakhs rs e...</td>\n",
              "      <td>Positive</td>\n",
              "    </tr>\n",
              "    <tr>\n",
              "      <th>4</th>\n",
              "      <td>2020-10-22</td>\n",
              "      <td>bjp really presenting free covid vaccine state...</td>\n",
              "      <td>Positive</td>\n",
              "    </tr>\n",
              "    <tr>\n",
              "      <th>5</th>\n",
              "      <td>2020-10-22</td>\n",
              "      <td>another dose daily miserablism planet grauniad...</td>\n",
              "      <td>Positive</td>\n",
              "    </tr>\n",
              "  </tbody>\n",
              "</table>\n",
              "</div>"
            ],
            "text/plain": [
              "         date                                              tweet sentiment\n",
              "0  2020-10-22  best poll promise ever free covid vaccine vote...  Positive\n",
              "1  2020-10-22  states shall wait thier vidhan sabha election ...  Negative\n",
              "3  2020-10-22  said vaccine free covid vaccine new lakhs rs e...  Positive\n",
              "4  2020-10-22  bjp really presenting free covid vaccine state...  Positive\n",
              "5  2020-10-22  another dose daily miserablism planet grauniad...  Positive"
            ]
          },
          "metadata": {
            "tags": []
          },
          "execution_count": 101
        }
      ]
    },
    {
      "cell_type": "code",
      "metadata": {
        "colab": {
          "base_uri": "https://localhost:8080/",
          "height": 542
        },
        "id": "QUcSyaB0Q8BW",
        "outputId": "4c745aa1-382a-4188-cccb-4b227a360259"
      },
      "source": [
        "# pie chart of sentiment\n",
        "senti1 = df.groupby(by = 'sentiment', group_keys=False).count()\n",
        "# senti1.head()\n",
        "\n",
        "px.pie(senti1, senti1.index, 'tweet', title='Sentiment of Tweets About COVID-19 Vaccine')"
      ],
      "execution_count": null,
      "outputs": [
        {
          "output_type": "display_data",
          "data": {
            "text/html": [
              "<html>\n",
              "<head><meta charset=\"utf-8\" /></head>\n",
              "<body>\n",
              "    <div>\n",
              "            <script src=\"https://cdnjs.cloudflare.com/ajax/libs/mathjax/2.7.5/MathJax.js?config=TeX-AMS-MML_SVG\"></script><script type=\"text/javascript\">if (window.MathJax) {MathJax.Hub.Config({SVG: {font: \"STIX-Web\"}});}</script>\n",
              "                <script type=\"text/javascript\">window.PlotlyConfig = {MathJaxConfig: 'local'};</script>\n",
              "        <script src=\"https://cdn.plot.ly/plotly-latest.min.js\"></script>    \n",
              "            <div id=\"ccd15a13-87bc-4d3b-8081-3edefab6ab84\" class=\"plotly-graph-div\" style=\"height:525px; width:100%;\"></div>\n",
              "            <script type=\"text/javascript\">\n",
              "                \n",
              "                    window.PLOTLYENV=window.PLOTLYENV || {};\n",
              "                    \n",
              "                if (document.getElementById(\"ccd15a13-87bc-4d3b-8081-3edefab6ab84\")) {\n",
              "                    Plotly.newPlot(\n",
              "                        'ccd15a13-87bc-4d3b-8081-3edefab6ab84',\n",
              "                        [{\"domain\": {\"x\": [0.0, 1.0], \"y\": [0.0, 1.0]}, \"hoverlabel\": {\"namelength\": 0}, \"hovertemplate\": \"label=%{label}<br>tweet=%{value}\", \"labels\": [\"Negative\", \"Neutral\", \"Positive\"], \"legendgroup\": \"\", \"name\": \"\", \"showlegend\": true, \"type\": \"pie\", \"values\": [82013, 43515, 75502]}],\n",
              "                        {\"legend\": {\"tracegroupgap\": 0}, \"template\": {\"data\": {\"bar\": [{\"error_x\": {\"color\": \"#2a3f5f\"}, \"error_y\": {\"color\": \"#2a3f5f\"}, \"marker\": {\"line\": {\"color\": \"#E5ECF6\", \"width\": 0.5}}, \"type\": \"bar\"}], \"barpolar\": [{\"marker\": {\"line\": {\"color\": \"#E5ECF6\", \"width\": 0.5}}, \"type\": \"barpolar\"}], \"carpet\": [{\"aaxis\": {\"endlinecolor\": \"#2a3f5f\", \"gridcolor\": \"white\", \"linecolor\": \"white\", \"minorgridcolor\": \"white\", \"startlinecolor\": \"#2a3f5f\"}, \"baxis\": {\"endlinecolor\": \"#2a3f5f\", \"gridcolor\": \"white\", \"linecolor\": \"white\", \"minorgridcolor\": \"white\", \"startlinecolor\": \"#2a3f5f\"}, \"type\": \"carpet\"}], \"choropleth\": [{\"colorbar\": {\"outlinewidth\": 0, \"ticks\": \"\"}, \"type\": \"choropleth\"}], \"contour\": [{\"colorbar\": {\"outlinewidth\": 0, \"ticks\": \"\"}, \"colorscale\": [[0.0, \"#0d0887\"], [0.1111111111111111, \"#46039f\"], [0.2222222222222222, \"#7201a8\"], [0.3333333333333333, \"#9c179e\"], [0.4444444444444444, \"#bd3786\"], [0.5555555555555556, \"#d8576b\"], [0.6666666666666666, \"#ed7953\"], [0.7777777777777778, \"#fb9f3a\"], [0.8888888888888888, \"#fdca26\"], [1.0, \"#f0f921\"]], \"type\": \"contour\"}], \"contourcarpet\": [{\"colorbar\": {\"outlinewidth\": 0, \"ticks\": \"\"}, \"type\": \"contourcarpet\"}], \"heatmap\": [{\"colorbar\": {\"outlinewidth\": 0, \"ticks\": \"\"}, \"colorscale\": [[0.0, \"#0d0887\"], [0.1111111111111111, \"#46039f\"], [0.2222222222222222, \"#7201a8\"], [0.3333333333333333, \"#9c179e\"], [0.4444444444444444, \"#bd3786\"], [0.5555555555555556, \"#d8576b\"], [0.6666666666666666, \"#ed7953\"], [0.7777777777777778, \"#fb9f3a\"], [0.8888888888888888, \"#fdca26\"], [1.0, \"#f0f921\"]], \"type\": \"heatmap\"}], \"heatmapgl\": [{\"colorbar\": {\"outlinewidth\": 0, \"ticks\": \"\"}, \"colorscale\": [[0.0, \"#0d0887\"], [0.1111111111111111, \"#46039f\"], [0.2222222222222222, \"#7201a8\"], [0.3333333333333333, \"#9c179e\"], [0.4444444444444444, \"#bd3786\"], [0.5555555555555556, \"#d8576b\"], [0.6666666666666666, \"#ed7953\"], [0.7777777777777778, \"#fb9f3a\"], [0.8888888888888888, \"#fdca26\"], [1.0, \"#f0f921\"]], \"type\": \"heatmapgl\"}], \"histogram\": [{\"marker\": {\"colorbar\": {\"outlinewidth\": 0, \"ticks\": \"\"}}, \"type\": \"histogram\"}], \"histogram2d\": [{\"colorbar\": {\"outlinewidth\": 0, \"ticks\": \"\"}, \"colorscale\": [[0.0, \"#0d0887\"], [0.1111111111111111, \"#46039f\"], [0.2222222222222222, \"#7201a8\"], [0.3333333333333333, \"#9c179e\"], [0.4444444444444444, \"#bd3786\"], [0.5555555555555556, \"#d8576b\"], [0.6666666666666666, \"#ed7953\"], [0.7777777777777778, \"#fb9f3a\"], [0.8888888888888888, \"#fdca26\"], [1.0, \"#f0f921\"]], \"type\": \"histogram2d\"}], \"histogram2dcontour\": [{\"colorbar\": {\"outlinewidth\": 0, \"ticks\": \"\"}, \"colorscale\": [[0.0, \"#0d0887\"], [0.1111111111111111, \"#46039f\"], [0.2222222222222222, \"#7201a8\"], [0.3333333333333333, \"#9c179e\"], [0.4444444444444444, \"#bd3786\"], [0.5555555555555556, \"#d8576b\"], [0.6666666666666666, \"#ed7953\"], [0.7777777777777778, \"#fb9f3a\"], [0.8888888888888888, \"#fdca26\"], [1.0, \"#f0f921\"]], \"type\": \"histogram2dcontour\"}], \"mesh3d\": [{\"colorbar\": {\"outlinewidth\": 0, \"ticks\": \"\"}, \"type\": \"mesh3d\"}], \"parcoords\": [{\"line\": {\"colorbar\": {\"outlinewidth\": 0, \"ticks\": \"\"}}, \"type\": \"parcoords\"}], \"pie\": [{\"automargin\": true, \"type\": \"pie\"}], \"scatter\": [{\"marker\": {\"colorbar\": {\"outlinewidth\": 0, \"ticks\": \"\"}}, \"type\": \"scatter\"}], \"scatter3d\": [{\"line\": {\"colorbar\": {\"outlinewidth\": 0, \"ticks\": \"\"}}, \"marker\": {\"colorbar\": {\"outlinewidth\": 0, \"ticks\": \"\"}}, \"type\": \"scatter3d\"}], \"scattercarpet\": [{\"marker\": {\"colorbar\": {\"outlinewidth\": 0, \"ticks\": \"\"}}, \"type\": \"scattercarpet\"}], \"scattergeo\": [{\"marker\": {\"colorbar\": {\"outlinewidth\": 0, \"ticks\": \"\"}}, \"type\": \"scattergeo\"}], \"scattergl\": [{\"marker\": {\"colorbar\": {\"outlinewidth\": 0, \"ticks\": \"\"}}, \"type\": \"scattergl\"}], \"scattermapbox\": [{\"marker\": {\"colorbar\": {\"outlinewidth\": 0, \"ticks\": \"\"}}, \"type\": \"scattermapbox\"}], \"scatterpolar\": [{\"marker\": {\"colorbar\": {\"outlinewidth\": 0, \"ticks\": \"\"}}, \"type\": \"scatterpolar\"}], \"scatterpolargl\": [{\"marker\": {\"colorbar\": {\"outlinewidth\": 0, \"ticks\": \"\"}}, \"type\": \"scatterpolargl\"}], \"scatterternary\": [{\"marker\": {\"colorbar\": {\"outlinewidth\": 0, \"ticks\": \"\"}}, \"type\": \"scatterternary\"}], \"surface\": [{\"colorbar\": {\"outlinewidth\": 0, \"ticks\": \"\"}, \"colorscale\": [[0.0, \"#0d0887\"], [0.1111111111111111, \"#46039f\"], [0.2222222222222222, \"#7201a8\"], [0.3333333333333333, \"#9c179e\"], [0.4444444444444444, \"#bd3786\"], [0.5555555555555556, \"#d8576b\"], [0.6666666666666666, \"#ed7953\"], [0.7777777777777778, \"#fb9f3a\"], [0.8888888888888888, \"#fdca26\"], [1.0, \"#f0f921\"]], \"type\": \"surface\"}], \"table\": [{\"cells\": {\"fill\": {\"color\": \"#EBF0F8\"}, \"line\": {\"color\": \"white\"}}, \"header\": {\"fill\": {\"color\": \"#C8D4E3\"}, \"line\": {\"color\": \"white\"}}, \"type\": \"table\"}]}, \"layout\": {\"annotationdefaults\": {\"arrowcolor\": \"#2a3f5f\", \"arrowhead\": 0, \"arrowwidth\": 1}, \"coloraxis\": {\"colorbar\": {\"outlinewidth\": 0, \"ticks\": \"\"}}, \"colorscale\": {\"diverging\": [[0, \"#8e0152\"], [0.1, \"#c51b7d\"], [0.2, \"#de77ae\"], [0.3, \"#f1b6da\"], [0.4, \"#fde0ef\"], [0.5, \"#f7f7f7\"], [0.6, \"#e6f5d0\"], [0.7, \"#b8e186\"], [0.8, \"#7fbc41\"], [0.9, \"#4d9221\"], [1, \"#276419\"]], \"sequential\": [[0.0, \"#0d0887\"], [0.1111111111111111, \"#46039f\"], [0.2222222222222222, \"#7201a8\"], [0.3333333333333333, \"#9c179e\"], [0.4444444444444444, \"#bd3786\"], [0.5555555555555556, \"#d8576b\"], [0.6666666666666666, \"#ed7953\"], [0.7777777777777778, \"#fb9f3a\"], [0.8888888888888888, \"#fdca26\"], [1.0, \"#f0f921\"]], \"sequentialminus\": [[0.0, \"#0d0887\"], [0.1111111111111111, \"#46039f\"], [0.2222222222222222, \"#7201a8\"], [0.3333333333333333, \"#9c179e\"], [0.4444444444444444, \"#bd3786\"], [0.5555555555555556, \"#d8576b\"], [0.6666666666666666, \"#ed7953\"], [0.7777777777777778, \"#fb9f3a\"], [0.8888888888888888, \"#fdca26\"], [1.0, \"#f0f921\"]]}, \"colorway\": [\"#636efa\", \"#EF553B\", \"#00cc96\", \"#ab63fa\", \"#FFA15A\", \"#19d3f3\", \"#FF6692\", \"#B6E880\", \"#FF97FF\", \"#FECB52\"], \"font\": {\"color\": \"#2a3f5f\"}, \"geo\": {\"bgcolor\": \"white\", \"lakecolor\": \"white\", \"landcolor\": \"#E5ECF6\", \"showlakes\": true, \"showland\": true, \"subunitcolor\": \"white\"}, \"hoverlabel\": {\"align\": \"left\"}, \"hovermode\": \"closest\", \"mapbox\": {\"style\": \"light\"}, \"paper_bgcolor\": \"white\", \"plot_bgcolor\": \"#E5ECF6\", \"polar\": {\"angularaxis\": {\"gridcolor\": \"white\", \"linecolor\": \"white\", \"ticks\": \"\"}, \"bgcolor\": \"#E5ECF6\", \"radialaxis\": {\"gridcolor\": \"white\", \"linecolor\": \"white\", \"ticks\": \"\"}}, \"scene\": {\"xaxis\": {\"backgroundcolor\": \"#E5ECF6\", \"gridcolor\": \"white\", \"gridwidth\": 2, \"linecolor\": \"white\", \"showbackground\": true, \"ticks\": \"\", \"zerolinecolor\": \"white\"}, \"yaxis\": {\"backgroundcolor\": \"#E5ECF6\", \"gridcolor\": \"white\", \"gridwidth\": 2, \"linecolor\": \"white\", \"showbackground\": true, \"ticks\": \"\", \"zerolinecolor\": \"white\"}, \"zaxis\": {\"backgroundcolor\": \"#E5ECF6\", \"gridcolor\": \"white\", \"gridwidth\": 2, \"linecolor\": \"white\", \"showbackground\": true, \"ticks\": \"\", \"zerolinecolor\": \"white\"}}, \"shapedefaults\": {\"line\": {\"color\": \"#2a3f5f\"}}, \"ternary\": {\"aaxis\": {\"gridcolor\": \"white\", \"linecolor\": \"white\", \"ticks\": \"\"}, \"baxis\": {\"gridcolor\": \"white\", \"linecolor\": \"white\", \"ticks\": \"\"}, \"bgcolor\": \"#E5ECF6\", \"caxis\": {\"gridcolor\": \"white\", \"linecolor\": \"white\", \"ticks\": \"\"}}, \"title\": {\"x\": 0.05}, \"xaxis\": {\"automargin\": true, \"gridcolor\": \"white\", \"linecolor\": \"white\", \"ticks\": \"\", \"title\": {\"standoff\": 15}, \"zerolinecolor\": \"white\", \"zerolinewidth\": 2}, \"yaxis\": {\"automargin\": true, \"gridcolor\": \"white\", \"linecolor\": \"white\", \"ticks\": \"\", \"title\": {\"standoff\": 15}, \"zerolinecolor\": \"white\", \"zerolinewidth\": 2}}}, \"title\": {\"text\": \"Sentiment of Tweets About COVID-19 Vaccine\"}},\n",
              "                        {\"responsive\": true}\n",
              "                    ).then(function(){\n",
              "                            \n",
              "var gd = document.getElementById('ccd15a13-87bc-4d3b-8081-3edefab6ab84');\n",
              "var x = new MutationObserver(function (mutations, observer) {{\n",
              "        var display = window.getComputedStyle(gd).display;\n",
              "        if (!display || display === 'none') {{\n",
              "            console.log([gd, 'removed!']);\n",
              "            Plotly.purge(gd);\n",
              "            observer.disconnect();\n",
              "        }}\n",
              "}});\n",
              "\n",
              "// Listen for the removal of the full notebook cells\n",
              "var notebookContainer = gd.closest('#notebook-container');\n",
              "if (notebookContainer) {{\n",
              "    x.observe(notebookContainer, {childList: true});\n",
              "}}\n",
              "\n",
              "// Listen for the clearing of the current output cell\n",
              "var outputEl = gd.closest('.output');\n",
              "if (outputEl) {{\n",
              "    x.observe(outputEl, {childList: true});\n",
              "}}\n",
              "\n",
              "                        })\n",
              "                };\n",
              "                \n",
              "            </script>\n",
              "        </div>\n",
              "</body>\n",
              "</html>"
            ]
          },
          "metadata": {
            "tags": []
          }
        }
      ]
    },
    {
      "cell_type": "markdown",
      "metadata": {
        "id": "ohgx0-a9xO07"
      },
      "source": [
        "From February 12th to October 22nd, 2020, the majority of tweets with the hashtag #Covid19 Vaccine are emotional, which is similar to the training and testing results. Negative sentiment is present in 40.8 percent of vaccine tweets during this time span, which is the highest proportion."
      ]
    },
    {
      "cell_type": "code",
      "metadata": {
        "id": "xWSOALpuTHpr"
      },
      "source": [
        "# convert the date to timestamp\n",
        "df['date'] = df['date'].apply(lambda x: datetime.strptime(x, '%Y-%m-%d'))\n",
        "df = df.sort_values(by='date')"
      ],
      "execution_count": null,
      "outputs": []
    },
    {
      "cell_type": "code",
      "metadata": {
        "colab": {
          "base_uri": "https://localhost:8080/",
          "height": 233
        },
        "id": "ZRaBeZDGVuwh",
        "outputId": "ea4cbf33-cc8e-4063-99a0-7ff93447f515"
      },
      "source": [
        "df['month'] = df['date'].dt.month # convert to monthly period\n",
        "monthly = df.groupby(by=['month', 'sentiment'])['tweet'].count().to_frame()\n",
        "monthly.head()"
      ],
      "execution_count": null,
      "outputs": [
        {
          "output_type": "execute_result",
          "data": {
            "text/html": [
              "<div>\n",
              "<style scoped>\n",
              "    .dataframe tbody tr th:only-of-type {\n",
              "        vertical-align: middle;\n",
              "    }\n",
              "\n",
              "    .dataframe tbody tr th {\n",
              "        vertical-align: top;\n",
              "    }\n",
              "\n",
              "    .dataframe thead th {\n",
              "        text-align: right;\n",
              "    }\n",
              "</style>\n",
              "<table border=\"1\" class=\"dataframe\">\n",
              "  <thead>\n",
              "    <tr style=\"text-align: right;\">\n",
              "      <th></th>\n",
              "      <th></th>\n",
              "      <th>tweet</th>\n",
              "    </tr>\n",
              "    <tr>\n",
              "      <th>month</th>\n",
              "      <th>sentiment</th>\n",
              "      <th></th>\n",
              "    </tr>\n",
              "  </thead>\n",
              "  <tbody>\n",
              "    <tr>\n",
              "      <th rowspan=\"3\" valign=\"top\">2</th>\n",
              "      <th>Negative</th>\n",
              "      <td>31</td>\n",
              "    </tr>\n",
              "    <tr>\n",
              "      <th>Neutral</th>\n",
              "      <td>10</td>\n",
              "    </tr>\n",
              "    <tr>\n",
              "      <th>Positive</th>\n",
              "      <td>23</td>\n",
              "    </tr>\n",
              "    <tr>\n",
              "      <th rowspan=\"2\" valign=\"top\">3</th>\n",
              "      <th>Negative</th>\n",
              "      <td>958</td>\n",
              "    </tr>\n",
              "    <tr>\n",
              "      <th>Neutral</th>\n",
              "      <td>385</td>\n",
              "    </tr>\n",
              "  </tbody>\n",
              "</table>\n",
              "</div>"
            ],
            "text/plain": [
              "                 tweet\n",
              "month sentiment       \n",
              "2     Negative      31\n",
              "      Neutral       10\n",
              "      Positive      23\n",
              "3     Negative     958\n",
              "      Neutral      385"
            ]
          },
          "metadata": {
            "tags": []
          },
          "execution_count": 139
        }
      ]
    },
    {
      "cell_type": "code",
      "metadata": {
        "id": "vt2MBLFIXiBn"
      },
      "source": [
        "monthly = monthly.reset_index()"
      ],
      "execution_count": null,
      "outputs": []
    },
    {
      "cell_type": "code",
      "metadata": {
        "colab": {
          "base_uri": "https://localhost:8080/",
          "height": 542
        },
        "id": "E0DFgSX6Z8HY",
        "outputId": "871d2d6d-4161-4304-ee77-794ee6d1c95a"
      },
      "source": [
        "px.bar(monthly, x='month', y='tweet', color='sentiment', title='Number of Tweets about COVID-19 Vaccine (2020)')"
      ],
      "execution_count": null,
      "outputs": [
        {
          "output_type": "display_data",
          "data": {
            "text/html": [
              "<html>\n",
              "<head><meta charset=\"utf-8\" /></head>\n",
              "<body>\n",
              "    <div>\n",
              "            <script src=\"https://cdnjs.cloudflare.com/ajax/libs/mathjax/2.7.5/MathJax.js?config=TeX-AMS-MML_SVG\"></script><script type=\"text/javascript\">if (window.MathJax) {MathJax.Hub.Config({SVG: {font: \"STIX-Web\"}});}</script>\n",
              "                <script type=\"text/javascript\">window.PlotlyConfig = {MathJaxConfig: 'local'};</script>\n",
              "        <script src=\"https://cdn.plot.ly/plotly-latest.min.js\"></script>    \n",
              "            <div id=\"58826b88-1eb9-4d75-b549-526c741525b5\" class=\"plotly-graph-div\" style=\"height:525px; width:100%;\"></div>\n",
              "            <script type=\"text/javascript\">\n",
              "                \n",
              "                    window.PLOTLYENV=window.PLOTLYENV || {};\n",
              "                    \n",
              "                if (document.getElementById(\"58826b88-1eb9-4d75-b549-526c741525b5\")) {\n",
              "                    Plotly.newPlot(\n",
              "                        '58826b88-1eb9-4d75-b549-526c741525b5',\n",
              "                        [{\"alignmentgroup\": \"True\", \"hoverlabel\": {\"namelength\": 0}, \"hovertemplate\": \"sentiment=Negative<br>month=%{x}<br>tweet=%{y}\", \"legendgroup\": \"sentiment=Negative\", \"marker\": {\"color\": \"#636efa\"}, \"name\": \"sentiment=Negative\", \"offsetgroup\": \"sentiment=Negative\", \"orientation\": \"v\", \"showlegend\": true, \"textposition\": \"auto\", \"type\": \"bar\", \"x\": [2, 3, 4, 5, 6, 7, 8, 9, 10], \"xaxis\": \"x\", \"y\": [31, 958, 3927, 6126, 4795, 13689, 17732, 22130, 12625], \"yaxis\": \"y\"}, {\"alignmentgroup\": \"True\", \"hoverlabel\": {\"namelength\": 0}, \"hovertemplate\": \"sentiment=Neutral<br>month=%{x}<br>tweet=%{y}\", \"legendgroup\": \"sentiment=Neutral\", \"marker\": {\"color\": \"#EF553B\"}, \"name\": \"sentiment=Neutral\", \"offsetgroup\": \"sentiment=Neutral\", \"orientation\": \"v\", \"showlegend\": true, \"textposition\": \"auto\", \"type\": \"bar\", \"x\": [2, 3, 4, 5, 6, 7, 8, 9, 10], \"xaxis\": \"x\", \"y\": [10, 385, 1608, 3076, 2554, 7235, 10860, 11030, 6757], \"yaxis\": \"y\"}, {\"alignmentgroup\": \"True\", \"hoverlabel\": {\"namelength\": 0}, \"hovertemplate\": \"sentiment=Positive<br>month=%{x}<br>tweet=%{y}\", \"legendgroup\": \"sentiment=Positive\", \"marker\": {\"color\": \"#00cc96\"}, \"name\": \"sentiment=Positive\", \"offsetgroup\": \"sentiment=Positive\", \"orientation\": \"v\", \"showlegend\": true, \"textposition\": \"auto\", \"type\": \"bar\", \"x\": [2, 3, 4, 5, 6, 7, 8, 9, 10], \"xaxis\": \"x\", \"y\": [23, 851, 3251, 5411, 4443, 13357, 16476, 20414, 11276], \"yaxis\": \"y\"}],\n",
              "                        {\"barmode\": \"relative\", \"legend\": {\"tracegroupgap\": 0}, \"template\": {\"data\": {\"bar\": [{\"error_x\": {\"color\": \"#2a3f5f\"}, \"error_y\": {\"color\": \"#2a3f5f\"}, \"marker\": {\"line\": {\"color\": \"#E5ECF6\", \"width\": 0.5}}, \"type\": \"bar\"}], \"barpolar\": [{\"marker\": {\"line\": {\"color\": \"#E5ECF6\", \"width\": 0.5}}, \"type\": \"barpolar\"}], \"carpet\": [{\"aaxis\": {\"endlinecolor\": \"#2a3f5f\", \"gridcolor\": \"white\", \"linecolor\": \"white\", \"minorgridcolor\": \"white\", \"startlinecolor\": \"#2a3f5f\"}, \"baxis\": {\"endlinecolor\": \"#2a3f5f\", \"gridcolor\": \"white\", \"linecolor\": \"white\", \"minorgridcolor\": \"white\", \"startlinecolor\": \"#2a3f5f\"}, \"type\": \"carpet\"}], \"choropleth\": [{\"colorbar\": {\"outlinewidth\": 0, \"ticks\": \"\"}, \"type\": \"choropleth\"}], \"contour\": [{\"colorbar\": {\"outlinewidth\": 0, \"ticks\": \"\"}, \"colorscale\": [[0.0, \"#0d0887\"], [0.1111111111111111, \"#46039f\"], [0.2222222222222222, \"#7201a8\"], [0.3333333333333333, \"#9c179e\"], [0.4444444444444444, \"#bd3786\"], [0.5555555555555556, \"#d8576b\"], [0.6666666666666666, \"#ed7953\"], [0.7777777777777778, \"#fb9f3a\"], [0.8888888888888888, \"#fdca26\"], [1.0, \"#f0f921\"]], \"type\": \"contour\"}], \"contourcarpet\": [{\"colorbar\": {\"outlinewidth\": 0, \"ticks\": \"\"}, \"type\": \"contourcarpet\"}], \"heatmap\": [{\"colorbar\": {\"outlinewidth\": 0, \"ticks\": \"\"}, \"colorscale\": [[0.0, \"#0d0887\"], [0.1111111111111111, \"#46039f\"], [0.2222222222222222, \"#7201a8\"], [0.3333333333333333, \"#9c179e\"], [0.4444444444444444, \"#bd3786\"], [0.5555555555555556, \"#d8576b\"], [0.6666666666666666, \"#ed7953\"], [0.7777777777777778, \"#fb9f3a\"], [0.8888888888888888, \"#fdca26\"], [1.0, \"#f0f921\"]], \"type\": \"heatmap\"}], \"heatmapgl\": [{\"colorbar\": {\"outlinewidth\": 0, \"ticks\": \"\"}, \"colorscale\": [[0.0, \"#0d0887\"], [0.1111111111111111, \"#46039f\"], [0.2222222222222222, \"#7201a8\"], [0.3333333333333333, \"#9c179e\"], [0.4444444444444444, \"#bd3786\"], [0.5555555555555556, \"#d8576b\"], [0.6666666666666666, \"#ed7953\"], [0.7777777777777778, \"#fb9f3a\"], [0.8888888888888888, \"#fdca26\"], [1.0, \"#f0f921\"]], \"type\": \"heatmapgl\"}], \"histogram\": [{\"marker\": {\"colorbar\": {\"outlinewidth\": 0, \"ticks\": \"\"}}, \"type\": \"histogram\"}], \"histogram2d\": [{\"colorbar\": {\"outlinewidth\": 0, \"ticks\": \"\"}, \"colorscale\": [[0.0, \"#0d0887\"], [0.1111111111111111, \"#46039f\"], [0.2222222222222222, \"#7201a8\"], [0.3333333333333333, \"#9c179e\"], [0.4444444444444444, \"#bd3786\"], [0.5555555555555556, \"#d8576b\"], [0.6666666666666666, \"#ed7953\"], [0.7777777777777778, \"#fb9f3a\"], [0.8888888888888888, \"#fdca26\"], [1.0, \"#f0f921\"]], \"type\": \"histogram2d\"}], \"histogram2dcontour\": [{\"colorbar\": {\"outlinewidth\": 0, \"ticks\": \"\"}, \"colorscale\": [[0.0, \"#0d0887\"], [0.1111111111111111, \"#46039f\"], [0.2222222222222222, \"#7201a8\"], [0.3333333333333333, \"#9c179e\"], [0.4444444444444444, \"#bd3786\"], [0.5555555555555556, \"#d8576b\"], [0.6666666666666666, \"#ed7953\"], [0.7777777777777778, \"#fb9f3a\"], [0.8888888888888888, \"#fdca26\"], [1.0, \"#f0f921\"]], \"type\": \"histogram2dcontour\"}], \"mesh3d\": [{\"colorbar\": {\"outlinewidth\": 0, \"ticks\": \"\"}, \"type\": \"mesh3d\"}], \"parcoords\": [{\"line\": {\"colorbar\": {\"outlinewidth\": 0, \"ticks\": \"\"}}, \"type\": \"parcoords\"}], \"pie\": [{\"automargin\": true, \"type\": \"pie\"}], \"scatter\": [{\"marker\": {\"colorbar\": {\"outlinewidth\": 0, \"ticks\": \"\"}}, \"type\": \"scatter\"}], \"scatter3d\": [{\"line\": {\"colorbar\": {\"outlinewidth\": 0, \"ticks\": \"\"}}, \"marker\": {\"colorbar\": {\"outlinewidth\": 0, \"ticks\": \"\"}}, \"type\": \"scatter3d\"}], \"scattercarpet\": [{\"marker\": {\"colorbar\": {\"outlinewidth\": 0, \"ticks\": \"\"}}, \"type\": \"scattercarpet\"}], \"scattergeo\": [{\"marker\": {\"colorbar\": {\"outlinewidth\": 0, \"ticks\": \"\"}}, \"type\": \"scattergeo\"}], \"scattergl\": [{\"marker\": {\"colorbar\": {\"outlinewidth\": 0, \"ticks\": \"\"}}, \"type\": \"scattergl\"}], \"scattermapbox\": [{\"marker\": {\"colorbar\": {\"outlinewidth\": 0, \"ticks\": \"\"}}, \"type\": \"scattermapbox\"}], \"scatterpolar\": [{\"marker\": {\"colorbar\": {\"outlinewidth\": 0, \"ticks\": \"\"}}, \"type\": \"scatterpolar\"}], \"scatterpolargl\": [{\"marker\": {\"colorbar\": {\"outlinewidth\": 0, \"ticks\": \"\"}}, \"type\": \"scatterpolargl\"}], \"scatterternary\": [{\"marker\": {\"colorbar\": {\"outlinewidth\": 0, \"ticks\": \"\"}}, \"type\": \"scatterternary\"}], \"surface\": [{\"colorbar\": {\"outlinewidth\": 0, \"ticks\": \"\"}, \"colorscale\": [[0.0, \"#0d0887\"], [0.1111111111111111, \"#46039f\"], [0.2222222222222222, \"#7201a8\"], [0.3333333333333333, \"#9c179e\"], [0.4444444444444444, \"#bd3786\"], [0.5555555555555556, \"#d8576b\"], [0.6666666666666666, \"#ed7953\"], [0.7777777777777778, \"#fb9f3a\"], [0.8888888888888888, \"#fdca26\"], [1.0, \"#f0f921\"]], \"type\": \"surface\"}], \"table\": [{\"cells\": {\"fill\": {\"color\": \"#EBF0F8\"}, \"line\": {\"color\": \"white\"}}, \"header\": {\"fill\": {\"color\": \"#C8D4E3\"}, \"line\": {\"color\": \"white\"}}, \"type\": \"table\"}]}, \"layout\": {\"annotationdefaults\": {\"arrowcolor\": \"#2a3f5f\", \"arrowhead\": 0, \"arrowwidth\": 1}, \"coloraxis\": {\"colorbar\": {\"outlinewidth\": 0, \"ticks\": \"\"}}, \"colorscale\": {\"diverging\": [[0, \"#8e0152\"], [0.1, \"#c51b7d\"], [0.2, \"#de77ae\"], [0.3, \"#f1b6da\"], [0.4, \"#fde0ef\"], [0.5, \"#f7f7f7\"], [0.6, \"#e6f5d0\"], [0.7, \"#b8e186\"], [0.8, \"#7fbc41\"], [0.9, \"#4d9221\"], [1, \"#276419\"]], \"sequential\": [[0.0, \"#0d0887\"], [0.1111111111111111, \"#46039f\"], [0.2222222222222222, \"#7201a8\"], [0.3333333333333333, \"#9c179e\"], [0.4444444444444444, \"#bd3786\"], [0.5555555555555556, \"#d8576b\"], [0.6666666666666666, \"#ed7953\"], [0.7777777777777778, \"#fb9f3a\"], [0.8888888888888888, \"#fdca26\"], [1.0, \"#f0f921\"]], \"sequentialminus\": [[0.0, \"#0d0887\"], [0.1111111111111111, \"#46039f\"], [0.2222222222222222, \"#7201a8\"], [0.3333333333333333, \"#9c179e\"], [0.4444444444444444, \"#bd3786\"], [0.5555555555555556, \"#d8576b\"], [0.6666666666666666, \"#ed7953\"], [0.7777777777777778, \"#fb9f3a\"], [0.8888888888888888, \"#fdca26\"], [1.0, \"#f0f921\"]]}, \"colorway\": [\"#636efa\", \"#EF553B\", \"#00cc96\", \"#ab63fa\", \"#FFA15A\", \"#19d3f3\", \"#FF6692\", \"#B6E880\", \"#FF97FF\", \"#FECB52\"], \"font\": {\"color\": \"#2a3f5f\"}, \"geo\": {\"bgcolor\": \"white\", \"lakecolor\": \"white\", \"landcolor\": \"#E5ECF6\", \"showlakes\": true, \"showland\": true, \"subunitcolor\": \"white\"}, \"hoverlabel\": {\"align\": \"left\"}, \"hovermode\": \"closest\", \"mapbox\": {\"style\": \"light\"}, \"paper_bgcolor\": \"white\", \"plot_bgcolor\": \"#E5ECF6\", \"polar\": {\"angularaxis\": {\"gridcolor\": \"white\", \"linecolor\": \"white\", \"ticks\": \"\"}, \"bgcolor\": \"#E5ECF6\", \"radialaxis\": {\"gridcolor\": \"white\", \"linecolor\": \"white\", \"ticks\": \"\"}}, \"scene\": {\"xaxis\": {\"backgroundcolor\": \"#E5ECF6\", \"gridcolor\": \"white\", \"gridwidth\": 2, \"linecolor\": \"white\", \"showbackground\": true, \"ticks\": \"\", \"zerolinecolor\": \"white\"}, \"yaxis\": {\"backgroundcolor\": \"#E5ECF6\", \"gridcolor\": \"white\", \"gridwidth\": 2, \"linecolor\": \"white\", \"showbackground\": true, \"ticks\": \"\", \"zerolinecolor\": \"white\"}, \"zaxis\": {\"backgroundcolor\": \"#E5ECF6\", \"gridcolor\": \"white\", \"gridwidth\": 2, \"linecolor\": \"white\", \"showbackground\": true, \"ticks\": \"\", \"zerolinecolor\": \"white\"}}, \"shapedefaults\": {\"line\": {\"color\": \"#2a3f5f\"}}, \"ternary\": {\"aaxis\": {\"gridcolor\": \"white\", \"linecolor\": \"white\", \"ticks\": \"\"}, \"baxis\": {\"gridcolor\": \"white\", \"linecolor\": \"white\", \"ticks\": \"\"}, \"bgcolor\": \"#E5ECF6\", \"caxis\": {\"gridcolor\": \"white\", \"linecolor\": \"white\", \"ticks\": \"\"}}, \"title\": {\"x\": 0.05}, \"xaxis\": {\"automargin\": true, \"gridcolor\": \"white\", \"linecolor\": \"white\", \"ticks\": \"\", \"title\": {\"standoff\": 15}, \"zerolinecolor\": \"white\", \"zerolinewidth\": 2}, \"yaxis\": {\"automargin\": true, \"gridcolor\": \"white\", \"linecolor\": \"white\", \"ticks\": \"\", \"title\": {\"standoff\": 15}, \"zerolinecolor\": \"white\", \"zerolinewidth\": 2}}}, \"title\": {\"text\": \"Number of Tweets about COVID-19 Vaccine (2020)\"}, \"xaxis\": {\"anchor\": \"y\", \"domain\": [0.0, 1.0], \"title\": {\"text\": \"month\"}}, \"yaxis\": {\"anchor\": \"x\", \"domain\": [0.0, 1.0], \"title\": {\"text\": \"tweet\"}}},\n",
              "                        {\"responsive\": true}\n",
              "                    ).then(function(){\n",
              "                            \n",
              "var gd = document.getElementById('58826b88-1eb9-4d75-b549-526c741525b5');\n",
              "var x = new MutationObserver(function (mutations, observer) {{\n",
              "        var display = window.getComputedStyle(gd).display;\n",
              "        if (!display || display === 'none') {{\n",
              "            console.log([gd, 'removed!']);\n",
              "            Plotly.purge(gd);\n",
              "            observer.disconnect();\n",
              "        }}\n",
              "}});\n",
              "\n",
              "// Listen for the removal of the full notebook cells\n",
              "var notebookContainer = gd.closest('#notebook-container');\n",
              "if (notebookContainer) {{\n",
              "    x.observe(notebookContainer, {childList: true});\n",
              "}}\n",
              "\n",
              "// Listen for the clearing of the current output cell\n",
              "var outputEl = gd.closest('.output');\n",
              "if (outputEl) {{\n",
              "    x.observe(outputEl, {childList: true});\n",
              "}}\n",
              "\n",
              "                        })\n",
              "                };\n",
              "                \n",
              "            </script>\n",
              "        </div>\n",
              "</body>\n",
              "</html>"
            ]
          },
          "metadata": {
            "tags": []
          }
        }
      ]
    },
    {
      "cell_type": "markdown",
      "metadata": {
        "id": "ZfTAsLZQycbU"
      },
      "source": [
        "Since the unlabeled tweets dataset covers the period from February 12 to October 22, 2020, only the data from March to September is used to analyze the trend. According to the stacked bar chart above, as time passes, there are more and more discussions about vaccination on Twitter. Even though the negative tweets still accounted for a significant proportion, about 40%, the proportion that neutral and positive tweets took increased over time, indicating that the public acceptance of the COVID-19 vaccination grew with time."
      ]
    },
    {
      "cell_type": "markdown",
      "metadata": {
        "id": "DjR-Y8DvbE5j"
      },
      "source": [
        "# **6 Conclusion**\n",
        "\n",
        "The CNN and LSTM classifiers is trained separately with parameters tuned to alleviate the overfitting problems in this project. Among these two neural network architectures, LSTM, which was trained with 10 epochs, outperformed the CNN model with testing accuracy equal to 84.33% and testing loss around 0.532.\n",
        "\n",
        "\n",
        "\n",
        "**Results of the CNN and LSTM model**\n",
        "\n",
        "| Model | Training Accuracy | Training Loss | Testing Accuracy | Testing Loss | Epoches |\n",
        "| ------ | ----------------- | -------------- | ----------------- | ------------ | ------- |\n",
        "|CNN|96.08%|0.281|82.33%|0.644|100|\n",
        "|LSTM|94.83%|0.1966|84.33%|0.532|10|\n",
        "\n",
        "\n",
        "\\\n",
        "\n",
        "As for the sentiment embedded in tweets about COVID-19 vaccination, even though the negative tweets still take a significant component of the total, the attitude, assessed with the LSTM classifier, towards vaccination on Twitter improved over time. However, misclassification may also occur as a result of the accuracy rate of 84.3% as shown in the confusion matrix in section 4.2.\n",
        "\n",
        "For future work, the word embedding can be pre-trained with a huge amount of unlabelled tweets to be later used in the CNN and LSTM architecure. There are several unsupervised machine learning algorithms that can be used to train the word embedding, such as Google's Word2vec and Facebook's FastText. This requires a large amount of tweets corpus and the performance of the model with pre-trained word embeddings need to be further examined."
      ]
    },
    {
      "cell_type": "markdown",
      "metadata": {
        "id": "yNpo4nj-bKrX"
      },
      "source": [
        "# **7 References**\n",
        "1. Brownlee, J. (2017). How to Develop a Deep Convolutional Neural Network for Sentiment Analysis (Text Classification). [online] Machine Learning Mastery. Available at: https://machinelearningmastery.com/develop-word-embedding-model-predicting-movie-review-sentiment/.\n",
        "2. Word embeddings (2019). Word embeddings | TensorFlow Core. [online] TensorFlow. Available at: https://www.tensorflow.org/tutorials/text/word_embeddings.\n",
        "3. TensorFlow. (n.d.). Word2Vec | TensorFlow Core. [online] Available at: https://www.tensorflow.org/tutorials/text/word2vec.\n",
        "4. Nogueira, C., Santos, D. and Gatti, M. (2014). Deep Convolutional Neural Networks for Sentiment Analysis of Short Texts. [online] , pp.69–78. Available at: https://www.aclweb.org/anthology/C14-1008.pdf [Accessed 11 Mar. 2021].\n",
        "5. Cliche Bloomberg, M. (n.d.). BB twtr at SemEval-2017 Task 4: Twitter Sentiment Analysis with CNNs and LSTMs. [online] . Available at: https://arxiv.org/pdf/1704.06125.pdf [Accessed 11 Mar. 2021].\n",
        "6. SteelFisher, G.K., Blendon, R.J. and Caporello, H. (2021). An Uncertain Public — Encouraging Acceptance of Covid-19 Vaccines. New England Journal of Medicine.\n",
        "7. Li, Q., Shah, S., Liu, X. and Nourbakhsh, A. (n.d.). Data Sets: Word Embeddings Learned from Tweets and General Data. [online] . Available at: https://arxiv.org/ftp/arxiv/papers/1708/1708.03994.pdf [Accessed 18 Apr. 2021].\n",
        "\n",
        "‌"
      ]
    }
  ]
}